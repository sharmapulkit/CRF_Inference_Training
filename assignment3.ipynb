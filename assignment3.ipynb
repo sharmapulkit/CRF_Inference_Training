{
 "cells": [
  {
   "cell_type": "code",
   "execution_count": 1,
   "metadata": {},
   "outputs": [],
   "source": [
    "import numpy as np\n",
    "import pandas as pd\n",
    "import csv\n",
    "import itertools\n",
    "from scipy.special import logsumexp\n",
    "import scipy.optimize as sciop\n",
    "import time"
   ]
  },
  {
   "cell_type": "code",
   "execution_count": 98,
   "metadata": {},
   "outputs": [],
   "source": [
    "# PATH = './'\n",
    "PATH = './../../Assignment2/Assignment2/'"
   ]
  },
  {
   "cell_type": "code",
   "execution_count": 251,
   "metadata": {},
   "outputs": [],
   "source": [
    "transition_gradient = pd.read_csv(PATH + 'model/transition-gradient.txt', delimiter=' ', header=None)\n",
    "transition_params = pd.read_csv(PATH + 'model/transition-params.txt', delimiter=' ', header=None)\n",
    "feature_gradient = pd.read_csv(PATH + 'model/feature-gradient.txt', delimiter=' ', header=None)\n",
    "feature_params = pd.read_csv(PATH + 'model/feature-params.txt', delimiter=' ', header=None)\n",
    "\n",
    "feature_params = feature_params.values\n",
    "transition_params = transition_params.values"
   ]
  },
  {
   "cell_type": "code",
   "execution_count": 4,
   "metadata": {},
   "outputs": [],
   "source": [
    "train_labels = open(PATH + 'data/train_words.txt').read().splitlines()\n",
    "test_labels = open(PATH + 'data/test_words.txt').read().splitlines()"
   ]
  },
  {
   "cell_type": "code",
   "execution_count": 5,
   "metadata": {},
   "outputs": [],
   "source": [
    "AllChars = \"etainoshrd\"\n",
    "CharMapping = \\\n",
    "{'e': 0,\n",
    " 't': 1,\n",
    " 'a': 2,\n",
    " 'i': 3,\n",
    " 'n': 4,\n",
    " 'o': 5,\n",
    " 's': 6,\n",
    " 'h': 7,\n",
    " 'r': 8,\n",
    " 'd': 9\n",
    "}\n",
    "featSize=321"
   ]
  },
  {
   "cell_type": "code",
   "execution_count": 6,
   "metadata": {},
   "outputs": [],
   "source": [
    "pd.set_option('display.float_format', '{:.4e}'.format)\n",
    "# pd.reset_option('display.float_format')"
   ]
  },
  {
   "cell_type": "code",
   "execution_count": 7,
   "metadata": {},
   "outputs": [],
   "source": [
    "####### Load all training words #####\n",
    "AlltrainWords = []\n",
    "for trainWordIdx in range(0, 400):\n",
    "    trainWord = pd.read_csv(PATH + 'data/train_img{}.txt'.format(trainWordIdx+1), header=None, delimiter=\" \")\n",
    "    trainWord = trainWord.values\n",
    "    AlltrainWords.append(trainWord)"
   ]
  },
  {
   "cell_type": "code",
   "execution_count": 8,
   "metadata": {},
   "outputs": [],
   "source": [
    "####### Load all testing words #####\n",
    "AlltestWords = []\n",
    "for testWordIdx in range(0, 200):\n",
    "    testWord = pd.read_csv(PATH + 'data/test_img{}.txt'.format(testWordIdx+1), header=None, delimiter=\" \")\n",
    "    testWord = testWord.values\n",
    "    AlltestWords.append(testWord)"
   ]
  },
  {
   "cell_type": "code",
   "execution_count": 122,
   "metadata": {},
   "outputs": [],
   "source": [
    "def computePotentials(wordFeats, featureParams):\n",
    "    \"\"\"\n",
    "    Compute single Node log potentials \n",
    "    wordFeats: X : (L, 321) \n",
    "    featureParams: W_F : (10, 321)\n",
    "    Returns an array of log potentials for each position : (L, 321)\n",
    "    \"\"\"\n",
    "    wF_times_X = featureParams @ wordFeats.T # np.multiply(featureParams, wordFeats.T)\n",
    "    return wF_times_X.values"
   ]
  },
  {
   "cell_type": "code",
   "execution_count": 252,
   "metadata": {},
   "outputs": [],
   "source": [
    "def computeEnergy(wordFeats, wordLabel, logPotentials, transitionParams):\n",
    "    \"\"\"\n",
    "    Compute Energy of a given word, E = - sum log(potential) + W_T\n",
    "    wordFeats: X : (L, 321)\n",
    "    Returns computed energy\n",
    "    \"\"\"\n",
    "    wordLabel_CharIdx = [CharMapping[x] for x in wordLabel]\n",
    "    sum_phis = np.sum(logPotentials[wordLabel_CharIdx, range(0, len(wordFeats))])\n",
    "    \n",
    "    arr = [(x, y) for (x, y) in zip(wordLabel_CharIdx[:-1], wordLabel_CharIdx[1:])]\n",
    "    transition_param_sum = 0\n",
    "    for elem in arr:\n",
    "        trainsition_param_sum += transitionParams[elem]\n",
    "#         transition_param_sum += transitionParams.iloc[elem]\n",
    "    return transition_param_sum + sum_phis\n",
    "    "
   ]
  },
  {
   "cell_type": "code",
   "execution_count": 244,
   "metadata": {},
   "outputs": [],
   "source": [
    "####### Nodes are 1 indexed\n",
    "def messageDict(word, featParams, transParams, wordPhis=None):\n",
    "    \"\"\"\n",
    "    Returns Messages dictionary for every pair of adjacent nodes\n",
    "    word: X : (L, 321)\n",
    "    featParams: W_F : (10, 321)\n",
    "    transParams: W_T : (10, 10)\n",
    "    wordPhis: Precomputed log potentials of the word\n",
    "    \n",
    "    Every element of dict has shape (10,)\n",
    "    \"\"\"\n",
    "    ########### Compute Word Potentials #########\n",
    "    if wordPhis is None:\n",
    "        wordPhis = computePotentials(word, featParams)\n",
    "        \n",
    "    logM = dict()\n",
    "    logM[len(word) + 1, len(word)] = np.zeros(len(AllChars))\n",
    "    logM[0, 1] = np.zeros(len(AllChars))\n",
    "    \n",
    "    #### Backward Messages ####\n",
    "    for fromNode in range(len(word), 1, -1):\n",
    "        logM[fromNode, fromNode - 1] = logsumexp(wordPhis[:, fromNode-1] + \\\n",
    "                              logM[fromNode + 1, fromNode] + \\\n",
    "                              transParams.values, axis = 1)    \n",
    "        \n",
    "    #### Forward Messages ####\n",
    "    for fromNode in range(1, len(word)):\n",
    "        logM[fromNode, fromNode + 1] = logsumexp(wordPhis[:, fromNode-1] + \\\n",
    "                              logM[fromNode - 1, fromNode] + \\\n",
    "                                transParams.values.T, axis=1)    \n",
    "    return logM\n",
    "\n",
    "def singleVariableMarginal(node, word, featParams, transParams, wordPhis=None, logPartition=None, _messageDict=None):\n",
    "    \"\"\"\n",
    "    Returns log Marginals\n",
    "    \"\"\"\n",
    "    if wordPhis is None:\n",
    "        wordPhis = computePotentials(word, featParams)\n",
    "    \n",
    "    if _messageDict is None:\n",
    "        _messageDict = messageDict(word, featParams, transParams, wordPhis)\n",
    "    if (node > 0):\n",
    "        m_left = _messageDict[node-1, node]\n",
    "    if (node < len(word)+1):\n",
    "        m_right = _messageDict[node+1, node]\n",
    "    \n",
    "    total_incoming_message = m_left + m_right\n",
    "    \n",
    "    ############\n",
    "    if (logPartition is None):\n",
    "        logPartition = logsumexp(wordPhis[:, node-1] + total_incoming_message)\n",
    "        \n",
    "    logMarginalProbs = wordPhis[:, node-1] + total_incoming_message - logPartition\n",
    "    return np.exp(logMarginalProbs)\n",
    "\n",
    "def singleVariableMarginalWord(word, featParams, transParams, wordPhis=None, logPartition=None, _messageDict=None):\n",
    "    \"\"\"\n",
    "    Returns log Marginals for each node\n",
    "    \"\"\"\n",
    "    if wordPhis is None:\n",
    "        wordPhis = computePotentials(word, featParams)\n",
    "    \n",
    "    if _messageDict is None:\n",
    "        _messageDict = messageDict(word, featParams, transParams, wordPhis)\n",
    "    \n",
    "    ############\n",
    "    if (logPartition is None):\n",
    "        logPartition = logsumexp(wordPhis[:, 0] + _messageDict[2, 1])\n",
    "        \n",
    "    singleVarMargs = []\n",
    "    for node in range(1, len(word)+1):\n",
    "        sVM = singleVariableMarginal(node, word, featParams, transParams, wordPhis, logPartition, _messageDict)\n",
    "        singleVarMargs.append(sVM)\n",
    "        \n",
    "    singleVarMargs = np.array(singleVarMargs)\n",
    "    return singleVarMargs\n",
    "\n",
    "\n",
    "def pairwiseMarginal(nodeL, nodeR, word, featParams, transParams, logPartition=None, wordPhis=None, _messageDict=None):\n",
    "    \"\"\" \n",
    "    PairWise Marginal for nodeL and nodeR\n",
    "    \"\"\"\n",
    "    if (wordPhis is None):\n",
    "        wordPhis = computePotentials(word, featParams)\n",
    "        \n",
    "    if (_messageDict is None):\n",
    "        _messageDict = messageDict(word, featParams, transParams, wordPhis)\n",
    "    \n",
    "    if (logPartition is None):\n",
    "        logPartition = logsumexp(wordPhis[:, nodeL] + _messageDict[nodeL+1, nodeL] + _messageDict[nodeL-1, nodeL])\n",
    "        \n",
    "#     chars_to_consider = AllChars\n",
    "#     pairwise_marginals = np.zeros( (len(chars_to_consider), len(chars_to_consider)) )\n",
    "    \n",
    "    mLeft = 0\n",
    "    mRight = 0\n",
    "    if (nodeL >= 1):\n",
    "        mLeft = _messageDict[nodeL - 1, nodeL]\n",
    "    if (nodeR <= len(word)):\n",
    "        mRight = _messageDict[nodeR + 1, nodeR]\n",
    "        \n",
    "    logSingleMarginalsL = wordPhis[:, nodeL-1] + mLeft\n",
    "    logSingleMarginalsR = wordPhis[:, nodeR-1] + mRight\n",
    "#     logSingleMarginalsL = np.stack( [logSingleMarginalsL]*len(AllChars) ).T\n",
    "#     logSingleMarginalsR = np.stack( [logSingleMarginalsR]*len(AllChars) )\n",
    "    \n",
    "    SingleMarginals = logSingleMarginalsL[None, ].T + logSingleMarginalsR[None, ]\n",
    "    jointMarginal = SingleMarginals + transParams - logPartition\n",
    "\n",
    "    return (jointMarginal)\n",
    "\n",
    "def pairwiseMarginalWord(word, featParams, transParams, wordPhis=None, logPartition=None, _messageDict=None):\n",
    "    \"\"\"\n",
    "    Pairwise Marginal for each pair of nodes\n",
    "    \"\"\"\n",
    "    if wordPhis is None:\n",
    "        wordPhis = computePotentials(word, featParams)\n",
    "    if _messageDict is None:\n",
    "        _messageDict = messageDict(word, featParams, transParams, wordPhis)\n",
    "    if logPartition is None:\n",
    "        logPartition = logsumexp(wordPhis[:, 0] + _messageDict[2, 1])\n",
    "    \n",
    "    pairwiseMargs = []\n",
    "    for node in range(1, len(word)):\n",
    "        pM = pairwiseMarginal(node, node+1, word, featParams, transParams, logPartition, wordPhis, _messageDict)\n",
    "        pairwiseMargs.append(pM.values)\n",
    "        \n",
    "    pairwiseMargs = np.exp(np.array(pairwiseMargs))\n",
    "    return pairwiseMargs"
   ]
  },
  {
   "cell_type": "markdown",
   "metadata": {},
   "source": [
    "# Question 1:\n"
   ]
  },
  {
   "cell_type": "code",
   "execution_count": 250,
   "metadata": {},
   "outputs": [],
   "source": [
    "####### Compute Log Likelihood ######\n",
    "def loglikelihood(W, dataSize, AllWords, AllLabels):\n",
    "    \"\"\"\n",
    "    Evaluated the average log likelihood (lll) of AllWords\n",
    "    W: value of weights to comptue lll at\n",
    "    dataSize: Consider 0->dataSize cases from AllWords to compute lll\n",
    "    AllWords: Array containing all training word features\n",
    "    AllLabels: True labels for each characeter of each training word\n",
    "    \n",
    "    Returns average loglikelihood evaluated at W (float)\n",
    "    \"\"\"\n",
    "    wF, wT = W[:len(AllChars)*featSize], W[len(AllChars)*featSize:]\n",
    "    wF = pd.DataFrame(np.reshape(wF, (len(AllChars), featSize)))\n",
    "    wT = pd.DataFrame(np.reshape(wT, (len(AllChars), len(AllChars))))\n",
    "    \n",
    "    loglikelihood = 0\n",
    "    for WordIdx in range(0, dataSize):\n",
    "        Word = AllWords[WordIdx]\n",
    "        Word_label = AllLabels[WordIdx]\n",
    "        Word_labelIdxs = [CharMapping[x] for x in Word_label]\n",
    "\n",
    "        WordPhis = computePotentials(Word, wF)\n",
    "        WordlogM = messageDict(Word, wF, wT, WordPhis)\n",
    "        marginal = WordPhis[:, 0] + WordlogM[(2, 1)]\n",
    "        logZ = logsumexp(marginal)\n",
    "\n",
    "        WordEnergy = computeEnergy(Word, Word_label, WordPhis, wT)\n",
    "        loglikelihood += WordEnergy - logZ\n",
    "\n",
    "#     print(\"Log likelihood for first {} train data points:\".format(dataSize), loglikelihood/dataSize )\n",
    "    return loglikelihood/dataSize"
   ]
  },
  {
   "cell_type": "code",
   "execution_count": 213,
   "metadata": {},
   "outputs": [
    {
     "name": "stdout",
     "output_type": "stream",
     "text": [
      "Log likelihood for first 50 train data points: -4.58395903635572\n"
     ]
    }
   ],
   "source": [
    "avglll = loglikelihood(np.append(feature_params.values.flatten(), transition_params.values.flatten()), \\\n",
    "                       50, AlltrainWords, train_labels)"
   ]
  },
  {
   "cell_type": "code",
   "execution_count": 245,
   "metadata": {},
   "outputs": [],
   "source": [
    "def _computeGradWF(word, wordLabel, singleMarginals):\n",
    "    \"\"\"\n",
    "    Compute the feature parameter gradient for a single word\n",
    "    word: image features of the word\n",
    "    wordLabel: true ground truth label\n",
    "    singleMarginals: Marginal distribution of each node in CRF\n",
    "    \n",
    "    Returns 10 x 321 np array that contains the gradient of lll of 'word' w.r.t. W^T evaluated at current W\n",
    "    \"\"\"\n",
    "    wordLabelList = np.array([x for x in wordLabel])\n",
    "    mask = [np.where(wordLabelList == c)[0] for c in CharMapping] # 10 x L(word)\n",
    "    selectedX = [np.sum(word[m, :], axis=0) for m in mask] # 10 x _ x 321\n",
    "\n",
    "#     secondTerm = []\n",
    "#     for c_id, c in enumerate(AllChars):\n",
    "#         probbyc = np.expand_dims(singleMarginals[:, c_id], axis=1)\n",
    "#         secondTerm.append(np.sum(word*probbyc, axis=0))\n",
    "#     secondTerm = np.array(secondTerm)\n",
    "#     print(secondTerm.shape)\n",
    "\n",
    "    secondTerm = singleMarginals.T @ word\n",
    "    grad = selectedX - secondTerm\n",
    "    return grad\n",
    "\n",
    "def computeGradF(wF, wT, dataSize, AlltrainingWords, trainingPotentials, Alltraininglabels):\n",
    "    \"\"\"\n",
    "    Compute the feature parameter gradient for words in AlltrainingWords\n",
    "    W: current value of weights\n",
    "    dataSize: 0->dataSize words will be used from AlltrainingWords for computation of gradient\n",
    "    AlltrainingWords: Array containing all training word features\n",
    "    trainingPotentials: Precomputed node Potentials of every training word\n",
    "    Alltraininglabels: True labels for each characeter of each training word\n",
    "    \n",
    "    Returns 10x321 array containing gradient of avg. lll w.r.t. W^F evaluated at W\n",
    "    \"\"\"\n",
    "#     wF, wT = W[:len(AllChars)*featSize], W[len(AllChars)*featSize:]\n",
    "#     wF = pd.DataFrame(np.reshape(wF, (len(AllChars), featSize)))\n",
    "#     wT = pd.DataFrame(np.reshape(wT, (len(AllChars), len(AllChars))))\n",
    "    grad = 0\n",
    "    for trainWordIdx in range(dataSize):\n",
    "        trainWord = AlltrainingWords[trainWordIdx]\n",
    "        trainWord_label = Alltraininglabels[trainWordIdx]\n",
    "        trainWord_labelIdxs = [CharMapping[x] for x in trainWord_label]\n",
    "        trainWordPhis = trainingPotentials[trainWordIdx] # computePotentials(trainWord, wF)\n",
    "        trainWord_messagesDict = messageDict(trainWord, wF, wT, trainWordPhis)\n",
    "        trainWord_logPartition = logsumexp(trainWordPhis[:, 0] + trainWord_messagesDict[2, 1])\n",
    "\n",
    "        st = time.time()\n",
    "        singleVarMargs = singleVariableMarginalWord(trainWord, wF, wT, trainWordPhis, trainWord_logPartition, trainWord_messagesDict)\n",
    "        et1 = time.time()\n",
    "        grad += _computeGradWF(trainWord, trainWord_label, singleVarMargs)\n",
    "        et2 = time.time()\n",
    "#         print(\"Loop over nodes gradF:\", et1 - st)\n",
    "#         print(\"ComputeGrad F per word:\", et2 - et1)\n",
    "        \n",
    "    return grad/dataSize\n",
    "\n",
    "def _computeGradWT(word, wordLabel, _pairwiseMarginals):\n",
    "    \"\"\"\n",
    "    Compute the transition parameter gradient for a single word\n",
    "    word: image features of the word\n",
    "    wordLabel: true ground truth label\n",
    "    _pairwiseMarginals: Pairwise Marginal distribution of each pair of adjacent nodes in CRF\n",
    "    \n",
    "    Returns 10 x 10 np array that contains the gradient of lll of 'word' w.r.t. W^T evaluated at current W\n",
    "    \"\"\"\n",
    "    gradwt = -1*np.sum(_pairwiseMarginals, axis=0)\n",
    "    for letter_id in range(0, len(word)-1):\n",
    "        gradwt[ CharMapping[wordLabel[letter_id]], CharMapping[wordLabel[letter_id + 1]] ] += 1\n",
    "    \n",
    "    return gradwt\n",
    "\n",
    "def computeGradT(wF, wT, dataSize, AlltrainingWords, trainingPotentials, Alltraininglabels):\n",
    "    \"\"\"\n",
    "    Compute Gradient for Transition parameters\n",
    "    W: Current values of weights to evaluate the gradient at\n",
    "    dataSize: size of the training data to be used\n",
    "    AlltrainingWords: Array containing all training word features\n",
    "    trainingPotentials: Precomputed node Potentials of every training word\n",
    "    Alltraininglabels: True labels for each characeter of each training word\n",
    "    \n",
    "    Returns 10 x 10 np array containing the gradient of lll w.r.t. W^T evaluated at current W\n",
    "    \"\"\"\n",
    "#     wF, wT = W[:len(AllChars)*featSize], W[len(AllChars)*featSize:]\n",
    "#     wF = pd.DataFrame(np.reshape(wF, (len(AllChars), featSize)))\n",
    "#     wT = pd.DataFrame(np.reshape(wT, (len(AllChars), len(AllChars))))\n",
    "    gradWT = 0\n",
    "    for trainWordIdx in range(dataSize):\n",
    "        trainWord = AlltrainingWords[trainWordIdx]\n",
    "        trainWord_label = Alltraininglabels[trainWordIdx]\n",
    "        trainWord_labelIdxs = [CharMapping[x] for x in trainWord_label]\n",
    "        trainWordPhis = trainingPotentials[trainWordIdx] # computePotentials(trainWord, wF)\n",
    "        st = time.time()\n",
    "        trainWord_messagesDict = messageDict(trainWord, wF, wT, trainWordPhis)\n",
    "        et1 = time.time()\n",
    "        trainWord_logPartition = logsumexp(trainWordPhis[:, 0] + trainWord_messagesDict[2, 1])\n",
    "\n",
    "        start_time = time.time()\n",
    "        pairwiseMargs = pairwiseMarginalWord(trainWord, wF, wT, trainWordPhis, trainWord_logPartition, trainWord_messagesDict)\n",
    "        end_time1 = time.time()\n",
    "#         print(\"messages computation:\", et1 - st)\n",
    "#         print(\"Pairwise for each word:\", end_time1 - start_time)\n",
    "        gradWT += _computeGradWT(trainWord, trainWord_label, np.array(pairwiseMargs))\n",
    "        \n",
    "    return gradWT/dataSize"
   ]
  },
  {
   "cell_type": "code",
   "execution_count": 247,
   "metadata": {},
   "outputs": [],
   "source": [
    "def gradlll(W, dataSize, AlltrainingWords, Alltraininglabels):\n",
    "    \"\"\" Compute the gradient of log likelihood at wF and wT \"\"\"\n",
    "    wF, wT = W[:len(AllChars)*featSize], W[len(AllChars)*featSize:]\n",
    "    wF = pd.DataFrame(np.reshape(wF, (len(AllChars), featSize)))\n",
    "    wT = pd.DataFrame(np.reshape(wT, (len(AllChars), len(AllChars))))\n",
    "    \n",
    "    trainingPotentials = []\n",
    "    for dataIter in range(dataSize):\n",
    "        thisWordPotential = computePotentials(AlltrainingWords[dataIter], wF)\n",
    "        trainingPotentials.append(thisWordPotential)\n",
    "    \n",
    "    start_time = time.time()\n",
    "    gradWF = computeGradF(wF, wT, dataSize, AlltrainingWords, trainingPotentials, Alltraininglabels)\n",
    "    end_time1 = time.time()\n",
    "    gradWT = computeGradT(wF, wT, dataSize, AlltrainingWords, trainingPotentials, Alltraininglabels)\n",
    "    end_time2 = time.time()\n",
    "#     print(\"Grad W computation time:\", end_time1 - start_time)\n",
    "#     print(\"Grad T computation time:\", end_time2 - end_time1 )\n",
    "    \n",
    "    grads = np.concatenate( (gradWF.flatten(), gradWT.flatten()) )\n",
    "    return grads"
   ]
  },
  {
   "cell_type": "code",
   "execution_count": 248,
   "metadata": {},
   "outputs": [
    {
     "name": "stdout",
     "output_type": "stream",
     "text": [
      "0   9.4369e-16\n",
      "1   3.9205e-16\n",
      "2   5.5067e-16\n",
      "3   1.3115e-15\n",
      "4   1.1727e-15\n",
      "5   3.4001e-16\n",
      "6   7.7022e-16\n",
      "7   1.0270e-15\n",
      "8   1.1068e-15\n",
      "9   9.2287e-16\n",
      "dtype: float64\n",
      "4.052314039881821e-15\n"
     ]
    }
   ],
   "source": [
    "######## Verify the computation of gradients is correct\n",
    "W0 = np.append(feature_params.values.flatten(), (transition_params.values.flatten()))\n",
    "_grads_ll = gradlll(W0, 50, AlltrainWords, train_labels)\n",
    "_wF, _wT = _grads_ll[:len(AllChars)*featSize], _grads_ll[ len(AllChars)*featSize: ]\n",
    "_wF = pd.DataFrame(np.reshape(_wF, (len(AllChars), featSize)))\n",
    "_wT = pd.DataFrame(np.reshape(_wT, (len(AllChars), len(AllChars))))\n",
    "\n",
    "print((_wT - transition_gradient).max())\n",
    "print((_wF - feature_gradient).max().max())"
   ]
  },
  {
   "cell_type": "code",
   "execution_count": 137,
   "metadata": {},
   "outputs": [],
   "source": [
    "def nll(W, dataSize, AlltrainingWords, Alltraininglabels):\n",
    "    st = time.time()\n",
    "    _nll = -1*loglikelihood(W, dataSize, AlltrainingWords, Alltraininglabels)\n",
    "    et = time.time()\n",
    "    print(\"Likelihood computation time:\", et - st)\n",
    "    return _nll\n",
    "\n",
    "def gradnll(W, dataSize, AlltrainingWords, Alltraininglabels):\n",
    "    _gradnll = -1*gradlll(W, dataSize, AlltrainingWords, Alltraininglabels)\n",
    "    return _gradnll"
   ]
  },
  {
   "cell_type": "code",
   "execution_count": 23,
   "metadata": {},
   "outputs": [],
   "source": [
    "def getAccuracy(W):\n",
    "    wF, wT = W[:len(AllChars)*featSize], W[len(AllChars)*featSize:]\n",
    "    wF = pd.DataFrame(np.reshape(wF, (len(AllChars), featSize)))\n",
    "    wT = pd.DataFrame(np.reshape(wT, (len(AllChars), len(AllChars))))\n",
    "    \n",
    "    #### Predictions on test set\n",
    "    preds = []\n",
    "    for testWordIdx in range(1, 201):\n",
    "        testWord = pd.read_csv(PATH + 'data/test_img{}.txt'.format(testWordIdx), header=None, delimiter=\" \")\n",
    "        testWord = testWord.values\n",
    "\n",
    "        testWordPhis = computePotentials(testWord, wF)\n",
    "        singleVarMarginals = []\n",
    "        for node in range(1, len(testWord)+1):\n",
    "            singleVarMarginals.append(singleVariableMarginal(node, testWord, wF, wT, \\\n",
    "                                                             testWordPhis))\n",
    "        singleVarMarginals = np.array(singleVarMarginals)\n",
    "        preds.append(''.join([AllChars[x] for x in np.argmax(singleVarMarginals, axis=1)]))\n",
    "    \n",
    "    #### Character Level accuracy ########\n",
    "    tp = 0\n",
    "    total = 0\n",
    "    for pred_id, pred in enumerate(preds):\n",
    "        testWordLabel = np.array([x for x in test_labels[pred_id]])\n",
    "        pred = np.array([x for x in pred])\n",
    "        tp += len(np.where(testWordLabel == pred)[0])\n",
    "        total += len(testWordLabel)\n",
    "    \n",
    "    print(\"Character Level Test-Accuracy:\", tp/total*100, \"%\")\n",
    "    return tp/total*100"
   ]
  },
  {
   "cell_type": "code",
   "execution_count": 19,
   "metadata": {},
   "outputs": [],
   "source": [
    "_training_times_bfgs = {}\n",
    "_weights_bfgs = {}\n",
    "_accuracies_bfgs = {}\n",
    "_errors_bfgs = {}\n",
    "_testLL_bfgs = {}\n",
    "_trainLL_bfgs = {}"
   ]
  },
  {
   "cell_type": "code",
   "execution_count": 205,
   "metadata": {},
   "outputs": [
    {
     "name": "stdout",
     "output_type": "stream",
     "text": [
      "Log likelihood for first 400 train data points: -12.520306443155132\n",
      "Likelihood computation time: 0.2708730697631836\n",
      "Grad W computation time: 0.23628973960876465\n",
      "Grad T computation time: 1.7700417041778564\n",
      "Log likelihood for first 400 train data points: -18.224557853609397\n",
      "Likelihood computation time: 0.2613718509674072\n",
      "Grad W computation time: 0.26708507537841797\n",
      "Grad T computation time: 1.9042553901672363\n",
      "Log likelihood for first 400 train data points: -11.682194385424145\n",
      "Likelihood computation time: 0.2640371322631836\n"
     ]
    },
    {
     "ename": "KeyboardInterrupt",
     "evalue": "",
     "output_type": "error",
     "traceback": [
      "\u001b[0;31m---------------------------------------------------------------------------\u001b[0m",
      "\u001b[0;31mKeyboardInterrupt\u001b[0m                         Traceback (most recent call last)",
      "\u001b[0;32m<ipython-input-205-54d14b610328>\u001b[0m in \u001b[0;36m<module>\u001b[0;34m\u001b[0m\n\u001b[1;32m      5\u001b[0m     \u001b[0mstartTime\u001b[0m \u001b[0;34m=\u001b[0m \u001b[0mtime\u001b[0m\u001b[0;34m.\u001b[0m\u001b[0mtime\u001b[0m\u001b[0;34m(\u001b[0m\u001b[0;34m)\u001b[0m\u001b[0;34m\u001b[0m\u001b[0;34m\u001b[0m\u001b[0m\n\u001b[1;32m      6\u001b[0m     res = sciop.minimize(fun=nll, x0=x0, args=(_data_size, AlltrainWords, train_labels), jac=gradnll, \\\n\u001b[0;32m----> 7\u001b[0;31m                              method='L-BFGS-B', options={'disp': True})\n\u001b[0m\u001b[1;32m      8\u001b[0m     \u001b[0mendTime\u001b[0m \u001b[0;34m=\u001b[0m \u001b[0mtime\u001b[0m\u001b[0;34m.\u001b[0m\u001b[0mtime\u001b[0m\u001b[0;34m(\u001b[0m\u001b[0;34m)\u001b[0m\u001b[0;34m\u001b[0m\u001b[0;34m\u001b[0m\u001b[0m\n\u001b[1;32m      9\u001b[0m     \u001b[0mtraining_time\u001b[0m \u001b[0;34m=\u001b[0m \u001b[0mendTime\u001b[0m \u001b[0;34m-\u001b[0m \u001b[0mstartTime\u001b[0m\u001b[0;34m\u001b[0m\u001b[0;34m\u001b[0m\u001b[0m\n",
      "\u001b[0;32m~/Documents/PDF/miniconda3/envs/pyenv/lib/python3.7/site-packages/scipy/optimize/_minimize.py\u001b[0m in \u001b[0;36mminimize\u001b[0;34m(fun, x0, args, method, jac, hess, hessp, bounds, constraints, tol, callback, options)\u001b[0m\n\u001b[1;32m    608\u001b[0m     \u001b[0;32melif\u001b[0m \u001b[0mmeth\u001b[0m \u001b[0;34m==\u001b[0m \u001b[0;34m'l-bfgs-b'\u001b[0m\u001b[0;34m:\u001b[0m\u001b[0;34m\u001b[0m\u001b[0;34m\u001b[0m\u001b[0m\n\u001b[1;32m    609\u001b[0m         return _minimize_lbfgsb(fun, x0, args, jac, bounds,\n\u001b[0;32m--> 610\u001b[0;31m                                 callback=callback, **options)\n\u001b[0m\u001b[1;32m    611\u001b[0m     \u001b[0;32melif\u001b[0m \u001b[0mmeth\u001b[0m \u001b[0;34m==\u001b[0m \u001b[0;34m'tnc'\u001b[0m\u001b[0;34m:\u001b[0m\u001b[0;34m\u001b[0m\u001b[0;34m\u001b[0m\u001b[0m\n\u001b[1;32m    612\u001b[0m         return _minimize_tnc(fun, x0, args, jac, bounds, callback=callback,\n",
      "\u001b[0;32m~/Documents/PDF/miniconda3/envs/pyenv/lib/python3.7/site-packages/scipy/optimize/lbfgsb.py\u001b[0m in \u001b[0;36m_minimize_lbfgsb\u001b[0;34m(fun, x0, args, jac, bounds, disp, maxcor, ftol, gtol, eps, maxfun, maxiter, iprint, callback, maxls, **unknown_options)\u001b[0m\n\u001b[1;32m    343\u001b[0m             \u001b[0;31m# until the completion of the current minimization iteration.\u001b[0m\u001b[0;34m\u001b[0m\u001b[0;34m\u001b[0m\u001b[0;34m\u001b[0m\u001b[0m\n\u001b[1;32m    344\u001b[0m             \u001b[0;31m# Overwrite f and g:\u001b[0m\u001b[0;34m\u001b[0m\u001b[0;34m\u001b[0m\u001b[0;34m\u001b[0m\u001b[0m\n\u001b[0;32m--> 345\u001b[0;31m             \u001b[0mf\u001b[0m\u001b[0;34m,\u001b[0m \u001b[0mg\u001b[0m \u001b[0;34m=\u001b[0m \u001b[0mfunc_and_grad\u001b[0m\u001b[0;34m(\u001b[0m\u001b[0mx\u001b[0m\u001b[0;34m)\u001b[0m\u001b[0;34m\u001b[0m\u001b[0;34m\u001b[0m\u001b[0m\n\u001b[0m\u001b[1;32m    346\u001b[0m         \u001b[0;32melif\u001b[0m \u001b[0mtask_str\u001b[0m\u001b[0;34m.\u001b[0m\u001b[0mstartswith\u001b[0m\u001b[0;34m(\u001b[0m\u001b[0;34mb'NEW_X'\u001b[0m\u001b[0;34m)\u001b[0m\u001b[0;34m:\u001b[0m\u001b[0;34m\u001b[0m\u001b[0;34m\u001b[0m\u001b[0m\n\u001b[1;32m    347\u001b[0m             \u001b[0;31m# new iteration\u001b[0m\u001b[0;34m\u001b[0m\u001b[0;34m\u001b[0m\u001b[0;34m\u001b[0m\u001b[0m\n",
      "\u001b[0;32m~/Documents/PDF/miniconda3/envs/pyenv/lib/python3.7/site-packages/scipy/optimize/lbfgsb.py\u001b[0m in \u001b[0;36mfunc_and_grad\u001b[0;34m(x)\u001b[0m\n\u001b[1;32m    294\u001b[0m         \u001b[0;32mdef\u001b[0m \u001b[0mfunc_and_grad\u001b[0m\u001b[0;34m(\u001b[0m\u001b[0mx\u001b[0m\u001b[0;34m)\u001b[0m\u001b[0;34m:\u001b[0m\u001b[0;34m\u001b[0m\u001b[0;34m\u001b[0m\u001b[0m\n\u001b[1;32m    295\u001b[0m             \u001b[0mf\u001b[0m \u001b[0;34m=\u001b[0m \u001b[0mfun\u001b[0m\u001b[0;34m(\u001b[0m\u001b[0mx\u001b[0m\u001b[0;34m,\u001b[0m \u001b[0;34m*\u001b[0m\u001b[0margs\u001b[0m\u001b[0;34m)\u001b[0m\u001b[0;34m\u001b[0m\u001b[0;34m\u001b[0m\u001b[0m\n\u001b[0;32m--> 296\u001b[0;31m             \u001b[0mg\u001b[0m \u001b[0;34m=\u001b[0m \u001b[0mjac\u001b[0m\u001b[0;34m(\u001b[0m\u001b[0mx\u001b[0m\u001b[0;34m,\u001b[0m \u001b[0;34m*\u001b[0m\u001b[0margs\u001b[0m\u001b[0;34m)\u001b[0m\u001b[0;34m\u001b[0m\u001b[0;34m\u001b[0m\u001b[0m\n\u001b[0m\u001b[1;32m    297\u001b[0m             \u001b[0;32mreturn\u001b[0m \u001b[0mf\u001b[0m\u001b[0;34m,\u001b[0m \u001b[0mg\u001b[0m\u001b[0;34m\u001b[0m\u001b[0;34m\u001b[0m\u001b[0m\n\u001b[1;32m    298\u001b[0m \u001b[0;34m\u001b[0m\u001b[0m\n",
      "\u001b[0;32m<ipython-input-137-df1d9085e296>\u001b[0m in \u001b[0;36mgradnll\u001b[0;34m(W, dataSize, AlltrainingWords, Alltraininglabels)\u001b[0m\n\u001b[1;32m      7\u001b[0m \u001b[0;34m\u001b[0m\u001b[0m\n\u001b[1;32m      8\u001b[0m \u001b[0;32mdef\u001b[0m \u001b[0mgradnll\u001b[0m\u001b[0;34m(\u001b[0m\u001b[0mW\u001b[0m\u001b[0;34m,\u001b[0m \u001b[0mdataSize\u001b[0m\u001b[0;34m,\u001b[0m \u001b[0mAlltrainingWords\u001b[0m\u001b[0;34m,\u001b[0m \u001b[0mAlltraininglabels\u001b[0m\u001b[0;34m)\u001b[0m\u001b[0;34m:\u001b[0m\u001b[0;34m\u001b[0m\u001b[0;34m\u001b[0m\u001b[0m\n\u001b[0;32m----> 9\u001b[0;31m     \u001b[0m_gradnll\u001b[0m \u001b[0;34m=\u001b[0m \u001b[0;34m-\u001b[0m\u001b[0;36m1\u001b[0m\u001b[0;34m*\u001b[0m\u001b[0mgradlll\u001b[0m\u001b[0;34m(\u001b[0m\u001b[0mW\u001b[0m\u001b[0;34m,\u001b[0m \u001b[0mdataSize\u001b[0m\u001b[0;34m,\u001b[0m \u001b[0mAlltrainingWords\u001b[0m\u001b[0;34m,\u001b[0m \u001b[0mAlltraininglabels\u001b[0m\u001b[0;34m)\u001b[0m\u001b[0;34m\u001b[0m\u001b[0;34m\u001b[0m\u001b[0m\n\u001b[0m\u001b[1;32m     10\u001b[0m     \u001b[0;32mreturn\u001b[0m \u001b[0m_gradnll\u001b[0m\u001b[0;34m\u001b[0m\u001b[0;34m\u001b[0m\u001b[0m\n",
      "\u001b[0;32m<ipython-input-203-aa990109b068>\u001b[0m in \u001b[0;36mgradlll\u001b[0;34m(W, dataSize, AlltrainingWords, Alltraininglabels)\u001b[0m\n\u001b[1;32m     13\u001b[0m     \u001b[0mgradWF\u001b[0m \u001b[0;34m=\u001b[0m \u001b[0mcomputeGradF\u001b[0m\u001b[0;34m(\u001b[0m\u001b[0mwF\u001b[0m\u001b[0;34m,\u001b[0m \u001b[0mwT\u001b[0m\u001b[0;34m,\u001b[0m \u001b[0mdataSize\u001b[0m\u001b[0;34m,\u001b[0m \u001b[0mAlltrainingWords\u001b[0m\u001b[0;34m,\u001b[0m \u001b[0mtrainingPotentials\u001b[0m\u001b[0;34m,\u001b[0m \u001b[0mAlltraininglabels\u001b[0m\u001b[0;34m)\u001b[0m\u001b[0;34m\u001b[0m\u001b[0;34m\u001b[0m\u001b[0m\n\u001b[1;32m     14\u001b[0m     \u001b[0mend_time1\u001b[0m \u001b[0;34m=\u001b[0m \u001b[0mtime\u001b[0m\u001b[0;34m.\u001b[0m\u001b[0mtime\u001b[0m\u001b[0;34m(\u001b[0m\u001b[0;34m)\u001b[0m\u001b[0;34m\u001b[0m\u001b[0;34m\u001b[0m\u001b[0m\n\u001b[0;32m---> 15\u001b[0;31m     \u001b[0mgradWT\u001b[0m \u001b[0;34m=\u001b[0m \u001b[0mcomputeGradT\u001b[0m\u001b[0;34m(\u001b[0m\u001b[0mwF\u001b[0m\u001b[0;34m,\u001b[0m \u001b[0mwT\u001b[0m\u001b[0;34m,\u001b[0m \u001b[0mdataSize\u001b[0m\u001b[0;34m,\u001b[0m \u001b[0mAlltrainingWords\u001b[0m\u001b[0;34m,\u001b[0m \u001b[0mtrainingPotentials\u001b[0m\u001b[0;34m,\u001b[0m \u001b[0mAlltraininglabels\u001b[0m\u001b[0;34m)\u001b[0m\u001b[0;34m\u001b[0m\u001b[0;34m\u001b[0m\u001b[0m\n\u001b[0m\u001b[1;32m     16\u001b[0m     \u001b[0mend_time2\u001b[0m \u001b[0;34m=\u001b[0m \u001b[0mtime\u001b[0m\u001b[0;34m.\u001b[0m\u001b[0mtime\u001b[0m\u001b[0;34m(\u001b[0m\u001b[0;34m)\u001b[0m\u001b[0;34m\u001b[0m\u001b[0;34m\u001b[0m\u001b[0m\n\u001b[1;32m     17\u001b[0m     \u001b[0mprint\u001b[0m\u001b[0;34m(\u001b[0m\u001b[0;34m\"Grad W computation time:\"\u001b[0m\u001b[0;34m,\u001b[0m \u001b[0mend_time1\u001b[0m \u001b[0;34m-\u001b[0m \u001b[0mstart_time\u001b[0m\u001b[0;34m)\u001b[0m\u001b[0;34m\u001b[0m\u001b[0;34m\u001b[0m\u001b[0m\n",
      "\u001b[0;32m<ipython-input-202-b784500f1558>\u001b[0m in \u001b[0;36mcomputeGradT\u001b[0;34m(wF, wT, dataSize, AlltrainingWords, trainingPotentials, Alltraininglabels)\u001b[0m\n\u001b[1;32m     90\u001b[0m         \u001b[0mtrainWord_labelIdxs\u001b[0m \u001b[0;34m=\u001b[0m \u001b[0;34m[\u001b[0m\u001b[0mCharMapping\u001b[0m\u001b[0;34m[\u001b[0m\u001b[0mx\u001b[0m\u001b[0;34m]\u001b[0m \u001b[0;32mfor\u001b[0m \u001b[0mx\u001b[0m \u001b[0;32min\u001b[0m \u001b[0mtrainWord_label\u001b[0m\u001b[0;34m]\u001b[0m\u001b[0;34m\u001b[0m\u001b[0;34m\u001b[0m\u001b[0m\n\u001b[1;32m     91\u001b[0m         \u001b[0mtrainWordPhis\u001b[0m \u001b[0;34m=\u001b[0m \u001b[0mtrainingPotentials\u001b[0m\u001b[0;34m[\u001b[0m\u001b[0mtrainWordIdx\u001b[0m\u001b[0;34m]\u001b[0m \u001b[0;31m# computePotentials(trainWord, wF)\u001b[0m\u001b[0;34m\u001b[0m\u001b[0;34m\u001b[0m\u001b[0m\n\u001b[0;32m---> 92\u001b[0;31m         \u001b[0mtrainWord_messagesDict\u001b[0m \u001b[0;34m=\u001b[0m \u001b[0mmessageDict\u001b[0m\u001b[0;34m(\u001b[0m\u001b[0mtrainWord\u001b[0m\u001b[0;34m,\u001b[0m \u001b[0mwF\u001b[0m\u001b[0;34m,\u001b[0m \u001b[0mwT\u001b[0m\u001b[0;34m,\u001b[0m \u001b[0mtrainWordPhis\u001b[0m\u001b[0;34m)\u001b[0m\u001b[0;34m\u001b[0m\u001b[0;34m\u001b[0m\u001b[0m\n\u001b[0m\u001b[1;32m     93\u001b[0m         \u001b[0mtrainWord_logPartition\u001b[0m \u001b[0;34m=\u001b[0m \u001b[0mlogsumexp\u001b[0m\u001b[0;34m(\u001b[0m\u001b[0mtrainWordPhis\u001b[0m\u001b[0;34m[\u001b[0m\u001b[0;34m:\u001b[0m\u001b[0;34m,\u001b[0m \u001b[0;36m0\u001b[0m\u001b[0;34m]\u001b[0m \u001b[0;34m+\u001b[0m \u001b[0mtrainWord_messagesDict\u001b[0m\u001b[0;34m[\u001b[0m\u001b[0;36m2\u001b[0m\u001b[0;34m,\u001b[0m \u001b[0;36m1\u001b[0m\u001b[0;34m]\u001b[0m\u001b[0;34m)\u001b[0m\u001b[0;34m\u001b[0m\u001b[0;34m\u001b[0m\u001b[0m\n\u001b[1;32m     94\u001b[0m \u001b[0;34m\u001b[0m\u001b[0m\n",
      "\u001b[0;32m<ipython-input-180-23d970f925fd>\u001b[0m in \u001b[0;36mmessageDict\u001b[0;34m(word, featParams, transParams, wordPhis)\u001b[0m\n\u001b[1;32m     28\u001b[0m         logM[fromNode, fromNode + 1] = logsumexp(wordPhis[:, fromNode-1] + \\\n\u001b[1;32m     29\u001b[0m                               \u001b[0mlogM\u001b[0m\u001b[0;34m[\u001b[0m\u001b[0mfromNode\u001b[0m \u001b[0;34m-\u001b[0m \u001b[0;36m1\u001b[0m\u001b[0;34m,\u001b[0m \u001b[0mfromNode\u001b[0m\u001b[0;34m]\u001b[0m \u001b[0;34m+\u001b[0m\u001b[0;31m \u001b[0m\u001b[0;31m\\\u001b[0m\u001b[0;34m\u001b[0m\u001b[0;34m\u001b[0m\u001b[0m\n\u001b[0;32m---> 30\u001b[0;31m                                 transParams.values.T, axis=1)    \n\u001b[0m\u001b[1;32m     31\u001b[0m     \u001b[0;32mreturn\u001b[0m \u001b[0mlogM\u001b[0m\u001b[0;34m\u001b[0m\u001b[0;34m\u001b[0m\u001b[0m\n\u001b[1;32m     32\u001b[0m \u001b[0;34m\u001b[0m\u001b[0m\n",
      "\u001b[0;32m~/Documents/PDF/miniconda3/envs/pyenv/lib/python3.7/site-packages/pandas/core/generic.py\u001b[0m in \u001b[0;36mvalues\u001b[0;34m(self)\u001b[0m\n\u001b[1;32m   5485\u001b[0m         \"\"\"\n\u001b[1;32m   5486\u001b[0m         \u001b[0mself\u001b[0m\u001b[0;34m.\u001b[0m\u001b[0m_consolidate_inplace\u001b[0m\u001b[0;34m(\u001b[0m\u001b[0;34m)\u001b[0m\u001b[0;34m\u001b[0m\u001b[0;34m\u001b[0m\u001b[0m\n\u001b[0;32m-> 5487\u001b[0;31m         \u001b[0;32mreturn\u001b[0m \u001b[0mself\u001b[0m\u001b[0;34m.\u001b[0m\u001b[0m_data\u001b[0m\u001b[0;34m.\u001b[0m\u001b[0mas_array\u001b[0m\u001b[0;34m(\u001b[0m\u001b[0mtranspose\u001b[0m\u001b[0;34m=\u001b[0m\u001b[0mself\u001b[0m\u001b[0;34m.\u001b[0m\u001b[0m_AXIS_REVERSED\u001b[0m\u001b[0;34m)\u001b[0m\u001b[0;34m\u001b[0m\u001b[0;34m\u001b[0m\u001b[0m\n\u001b[0m\u001b[1;32m   5488\u001b[0m \u001b[0;34m\u001b[0m\u001b[0m\n\u001b[1;32m   5489\u001b[0m     \u001b[0;34m@\u001b[0m\u001b[0mproperty\u001b[0m\u001b[0;34m\u001b[0m\u001b[0;34m\u001b[0m\u001b[0m\n",
      "\u001b[0;32m~/Documents/PDF/miniconda3/envs/pyenv/lib/python3.7/site-packages/pandas/core/internals/managers.py\u001b[0m in \u001b[0;36mas_array\u001b[0;34m(self, transpose, items)\u001b[0m\n\u001b[1;32m    825\u001b[0m             \u001b[0;31m# DatetimeArray (previously DTI)\u001b[0m\u001b[0;34m\u001b[0m\u001b[0;34m\u001b[0m\u001b[0;34m\u001b[0m\u001b[0m\n\u001b[1;32m    826\u001b[0m             \u001b[0marr\u001b[0m \u001b[0;34m=\u001b[0m \u001b[0mmgr\u001b[0m\u001b[0;34m.\u001b[0m\u001b[0mblocks\u001b[0m\u001b[0;34m[\u001b[0m\u001b[0;36m0\u001b[0m\u001b[0;34m]\u001b[0m\u001b[0;34m.\u001b[0m\u001b[0mget_values\u001b[0m\u001b[0;34m(\u001b[0m\u001b[0mdtype\u001b[0m\u001b[0;34m=\u001b[0m\u001b[0mobject\u001b[0m\u001b[0;34m)\u001b[0m\u001b[0;34m\u001b[0m\u001b[0;34m\u001b[0m\u001b[0m\n\u001b[0;32m--> 827\u001b[0;31m         \u001b[0;32melif\u001b[0m \u001b[0mself\u001b[0m\u001b[0;34m.\u001b[0m\u001b[0m_is_single_block\u001b[0m \u001b[0;32mor\u001b[0m \u001b[0;32mnot\u001b[0m \u001b[0mself\u001b[0m\u001b[0;34m.\u001b[0m\u001b[0mis_mixed_type\u001b[0m\u001b[0;34m:\u001b[0m\u001b[0;34m\u001b[0m\u001b[0;34m\u001b[0m\u001b[0m\n\u001b[0m\u001b[1;32m    828\u001b[0m             \u001b[0marr\u001b[0m \u001b[0;34m=\u001b[0m \u001b[0mnp\u001b[0m\u001b[0;34m.\u001b[0m\u001b[0masarray\u001b[0m\u001b[0;34m(\u001b[0m\u001b[0mmgr\u001b[0m\u001b[0;34m.\u001b[0m\u001b[0mblocks\u001b[0m\u001b[0;34m[\u001b[0m\u001b[0;36m0\u001b[0m\u001b[0;34m]\u001b[0m\u001b[0;34m.\u001b[0m\u001b[0mget_values\u001b[0m\u001b[0;34m(\u001b[0m\u001b[0;34m)\u001b[0m\u001b[0;34m)\u001b[0m\u001b[0;34m\u001b[0m\u001b[0;34m\u001b[0m\u001b[0m\n\u001b[1;32m    829\u001b[0m         \u001b[0;32melse\u001b[0m\u001b[0;34m:\u001b[0m\u001b[0;34m\u001b[0m\u001b[0;34m\u001b[0m\u001b[0m\n",
      "\u001b[0;32m~/Documents/PDF/miniconda3/envs/pyenv/lib/python3.7/site-packages/pandas/core/internals/managers.py\u001b[0m in \u001b[0;36m_is_single_block\u001b[0;34m(self)\u001b[0m\n\u001b[1;32m    207\u001b[0m         \u001b[0mblk\u001b[0m \u001b[0;34m=\u001b[0m \u001b[0mself\u001b[0m\u001b[0;34m.\u001b[0m\u001b[0mblocks\u001b[0m\u001b[0;34m[\u001b[0m\u001b[0;36m0\u001b[0m\u001b[0;34m]\u001b[0m\u001b[0;34m\u001b[0m\u001b[0;34m\u001b[0m\u001b[0m\n\u001b[1;32m    208\u001b[0m         return blk.mgr_locs.is_slice_like and blk.mgr_locs.as_slice == slice(\n\u001b[0;32m--> 209\u001b[0;31m             \u001b[0;36m0\u001b[0m\u001b[0;34m,\u001b[0m \u001b[0mlen\u001b[0m\u001b[0;34m(\u001b[0m\u001b[0mself\u001b[0m\u001b[0;34m)\u001b[0m\u001b[0;34m,\u001b[0m \u001b[0;36m1\u001b[0m\u001b[0;34m\u001b[0m\u001b[0;34m\u001b[0m\u001b[0m\n\u001b[0m\u001b[1;32m    210\u001b[0m         )\n\u001b[1;32m    211\u001b[0m \u001b[0;34m\u001b[0m\u001b[0m\n",
      "\u001b[0;32m~/Documents/PDF/miniconda3/envs/pyenv/lib/python3.7/site-packages/pandas/core/internals/managers.py\u001b[0m in \u001b[0;36m__len__\u001b[0;34m(self)\u001b[0m\n\u001b[1;32m    313\u001b[0m \u001b[0;34m\u001b[0m\u001b[0m\n\u001b[1;32m    314\u001b[0m     \u001b[0;32mdef\u001b[0m \u001b[0m__len__\u001b[0m\u001b[0;34m(\u001b[0m\u001b[0mself\u001b[0m\u001b[0;34m)\u001b[0m \u001b[0;34m->\u001b[0m \u001b[0mint\u001b[0m\u001b[0;34m:\u001b[0m\u001b[0;34m\u001b[0m\u001b[0;34m\u001b[0m\u001b[0m\n\u001b[0;32m--> 315\u001b[0;31m         \u001b[0;32mreturn\u001b[0m \u001b[0mlen\u001b[0m\u001b[0;34m(\u001b[0m\u001b[0mself\u001b[0m\u001b[0;34m.\u001b[0m\u001b[0mitems\u001b[0m\u001b[0;34m)\u001b[0m\u001b[0;34m\u001b[0m\u001b[0;34m\u001b[0m\u001b[0m\n\u001b[0m\u001b[1;32m    316\u001b[0m \u001b[0;34m\u001b[0m\u001b[0m\n\u001b[1;32m    317\u001b[0m     \u001b[0;32mdef\u001b[0m \u001b[0m__repr__\u001b[0m\u001b[0;34m(\u001b[0m\u001b[0mself\u001b[0m\u001b[0;34m)\u001b[0m \u001b[0;34m->\u001b[0m \u001b[0mstr\u001b[0m\u001b[0;34m:\u001b[0m\u001b[0;34m\u001b[0m\u001b[0;34m\u001b[0m\u001b[0m\n",
      "\u001b[0;32m~/Documents/PDF/miniconda3/envs/pyenv/lib/python3.7/site-packages/pandas/core/indexes/range.py\u001b[0m in \u001b[0;36m__len__\u001b[0;34m(self)\u001b[0m\n\u001b[1;32m    673\u001b[0m         \u001b[0;32mreturn\u001b[0m \u001b[0mRangeIndex\u001b[0m\u001b[0;34m(\u001b[0m\u001b[0;36m0\u001b[0m\u001b[0;34m,\u001b[0m \u001b[0;36m0\u001b[0m\u001b[0;34m)\u001b[0m\u001b[0;34m.\u001b[0m\u001b[0mrename\u001b[0m\u001b[0;34m(\u001b[0m\u001b[0mname\u001b[0m\u001b[0;34m)\u001b[0m\u001b[0;34m\u001b[0m\u001b[0;34m\u001b[0m\u001b[0m\n\u001b[1;32m    674\u001b[0m \u001b[0;34m\u001b[0m\u001b[0m\n\u001b[0;32m--> 675\u001b[0;31m     \u001b[0;32mdef\u001b[0m \u001b[0m__len__\u001b[0m\u001b[0;34m(\u001b[0m\u001b[0mself\u001b[0m\u001b[0;34m)\u001b[0m \u001b[0;34m->\u001b[0m \u001b[0mint\u001b[0m\u001b[0;34m:\u001b[0m\u001b[0;34m\u001b[0m\u001b[0;34m\u001b[0m\u001b[0m\n\u001b[0m\u001b[1;32m    676\u001b[0m         \"\"\"\n\u001b[1;32m    677\u001b[0m         \u001b[0;32mreturn\u001b[0m \u001b[0mthe\u001b[0m \u001b[0mlength\u001b[0m \u001b[0mof\u001b[0m \u001b[0mthe\u001b[0m \u001b[0mRangeIndex\u001b[0m\u001b[0;34m\u001b[0m\u001b[0;34m\u001b[0m\u001b[0m\n",
      "\u001b[0;31mKeyboardInterrupt\u001b[0m: "
     ]
    }
   ],
   "source": [
    "for _data_size in range(400, 401, 50):\n",
    "    ### train with given data ###\n",
    "    x0 = np.concatenate( (np.ones((len(AllChars)*featSize)), np.ones((len(AllChars)*len(AllChars)))) )\n",
    "#     x0 = np.concatenate( (feature_params.values.flatten(), transition_params.values.flatten()) )\n",
    "    startTime = time.time()\n",
    "    res = sciop.minimize(fun=nll, x0=x0, args=(_data_size, AlltrainWords, train_labels), jac=gradnll, \\\n",
    "                             method='L-BFGS-B', options={'disp': True})\n",
    "    endTime = time.time()\n",
    "    training_time = endTime - startTime\n",
    "    \n",
    "    print(\"Training Time:\", training_time)\n",
    "    \n",
    "    _training_times_bfgs[_data_size] = training_time\n",
    "    \n",
    "    _weights_bfgs[_data_size] = res.x\n",
    "    \n",
    "    _accuracies_bfgs[_data_size] = getAccuracy(res.x)\n",
    "    _errors_bfgs[_data_size] = 100 - getAccuracy(res.x)\n",
    "    \n",
    "    _testLL_bfgs[_data_size] = loglikelihood( _weights_bfgs[_data_size], 200, AlltestWords, test_labels )\n",
    "    \n",
    "    _trainLL_bfgs[_data_size] = loglikelihood(_weights_bfgs[_data_size], _data_size, AlltrainWords, train_labels)"
   ]
  },
  {
   "cell_type": "code",
   "execution_count": 138,
   "metadata": {},
   "outputs": [
    {
     "data": {
      "text/plain": [
       "      fun: 7.103859330825912e-05\n",
       " hess_inv: array([[ 13.38270928, -11.05439611,  -3.10360412, ...,  15.17054192,\n",
       "         34.35475862,  23.98281305],\n",
       "       [-11.05439611,  14.2626298 ,   4.49705864, ..., -14.6310422 ,\n",
       "        -33.86800752, -23.96921123],\n",
       "       [ -3.10360412,   4.49705864,   4.76699784, ...,  -5.64311571,\n",
       "        -13.64323109,  -8.83424385],\n",
       "       ...,\n",
       "       [ 15.17054192, -14.6310422 ,  -5.64311571, ...,  22.12083906,\n",
       "         47.75287892,  32.59374087],\n",
       "       [ 34.35475862, -33.86800752, -13.64323109, ...,  47.75287892,\n",
       "        109.80035384,  74.14697032],\n",
       "       [ 23.98281305, -23.96921123,  -8.83424385, ...,  32.59374087,\n",
       "         74.14697032,  52.09072998]])\n",
       "      jac: array([-5.23561756e-06, -4.03709797e-06, -4.59593806e-06, ...,\n",
       "        1.98809663e-07, -1.30192096e-06,  6.24146513e-07])\n",
       "  message: 'Optimization terminated successfully.'\n",
       "     nfev: 128\n",
       "      nit: 126\n",
       "     njev: 128\n",
       "   status: 0\n",
       "  success: True\n",
       "        x: array([-0.04227209, -0.14184068,  0.48551451, ..., -0.42488278,\n",
       "       -0.93371456, -0.5808367 ])"
      ]
     },
     "execution_count": 138,
     "metadata": {},
     "output_type": "execute_result"
    }
   ],
   "source": [
    "res"
   ]
  },
  {
   "cell_type": "code",
   "execution_count": 139,
   "metadata": {},
   "outputs": [
    {
     "data": {
      "image/png": "[encoded data removed]",
      "text/plain": [
       "<Figure size 432x288 with 1 Axes>"
      ]
     },
     "metadata": {
      "needs_background": "light"
     },
     "output_type": "display_data"
    },
    {
     "data": {
      "image/png": "[encoded data removed]",
      "text/plain": [
       "<Figure size 432x288 with 1 Axes>"
      ]
     },
     "metadata": {
      "needs_background": "light"
     },
     "output_type": "display_data"
    },
    {
     "data": {
      "image/png": "[encoded data removed]",
      "text/plain": [
       "<Figure size 432x288 with 1 Axes>"
      ]
     },
     "metadata": {
      "needs_background": "light"
     },
     "output_type": "display_data"
    },
    {
     "data": {
      "image/png": "[encoded data removed]",
      "text/plain": [
       "<Figure size 432x288 with 1 Axes>"
      ]
     },
     "metadata": {
      "needs_background": "light"
     },
     "output_type": "display_data"
    }
   ],
   "source": [
    "import matplotlib.pyplot as plt\n",
    "fig = plt.figure()\n",
    "\n",
    "lists = sorted(_training_times_bfgs.items())\n",
    "x, y = zip(*lists)\n",
    "# ax1 = fig.add_subplot(311)\n",
    "plt.plot(x, y)\n",
    "plt.grid(True)\n",
    "plt.xlabel('Training Set Size')\n",
    "plt.ylabel('Training Time (s)')\n",
    "for xx, yy in zip(x, y):                                \n",
    "    plt.annotate('%.2f' % yy, xy=(xx, yy), xytext= (xx, yy), textcoords='data')\n",
    "plt.savefig('trainingTime.jpg', bbox_inches='tight')\n",
    "plt.show()\n",
    "\n",
    "lists = sorted(_errors_bfgs.items())\n",
    "# print(lists)\n",
    "x, y = zip(*lists)\n",
    "plt.xlabel('Training Set Size')\n",
    "plt.ylabel('Test Error (%)')\n",
    "plt.plot(x, y)\n",
    "plt.grid(True)\n",
    "for xx, yy in zip(x, y):                                    \n",
    "    plt.annotate('%.2f' % yy, xy=(xx, yy), xytext= (xx, yy), textcoords='data')\n",
    "plt.savefig('TestError.jpg', bbox_inches='tight')\n",
    "plt.show()\n",
    "\n",
    "lists = sorted(_testLL_bfgs.items())\n",
    "x, y = zip(*lists)\n",
    "plt.xlabel('Training Set Size')\n",
    "plt.ylabel('avg. test LogLikelihood')\n",
    "plt.plot(x, y)\n",
    "plt.grid(True)\n",
    "for xx, yy in zip(x, y):                                      \n",
    "    plt.annotate('%.2f' % yy, xy=(xx, yy), xytext= (xx, yy), textcoords='data') \n",
    "plt.savefig('testLogLikelihood.jpg', bbox_inches='tight')\n",
    "plt.show()\n",
    "\n",
    "lists = sorted(_trainLL_bfgs.items())\n",
    "x, y = zip(*lists)\n",
    "plt.xlabel('Training Set Size')\n",
    "plt.ylabel('avg. train LogLikelihood')\n",
    "plt.plot(x, y)\n",
    "plt.grid(True)\n",
    "for xx, yy in zip(x, y):                                       \n",
    "    plt.annotate('%.2f' % yy, xy=(xx, yy), xytext= (xx, yy), textcoords='data')\n",
    "plt.savefig('trainLogLikelihood.jpg', bbox_inches='tight')\n",
    "plt.show()"
   ]
  },
  {
   "cell_type": "markdown",
   "metadata": {},
   "source": [
    "## Appendix\n",
    "### Compare the runtime of likelihood computation with and without preloaded TrainingData"
   ]
  },
  {
   "cell_type": "code",
   "execution_count": 247,
   "metadata": {},
   "outputs": [
    {
     "name": "stdout",
     "output_type": "stream",
     "text": [
      "21.01706337928772\n"
     ]
    }
   ],
   "source": [
    "_start = time.time()\n",
    "for i in range(10):\n",
    "    ll = 0\n",
    "    for trainWordIdx in range(0, dataSize):\n",
    "        trainWord = pd.read_csv(PATH + 'data/train_img{}.txt'.format(trainWordIdx+1), header=None, delimiter=\" \")\n",
    "        trainWord = trainWord.values\n",
    "        trainWord_label = train_labels[trainWordIdx]\n",
    "        trainWord_labelIdxs = [CharMapping[x] for x in trainWord_label]\n",
    "\n",
    "        trainWordPhis = computePotentials(trainWord, feature_params)\n",
    "        trainWordlogM = messageDict(trainWord, feature_params, transition_params)\n",
    "        marginal = trainWordPhis[:, 0] + trainWordlogM[(2, 1)]\n",
    "        logZ = logsumexp(marginal)\n",
    "\n",
    "        trainWordEnergy = computeEnergy(trainWord, trainWord_label, trainWordPhis, transition_params)\n",
    "        ll += trainWordEnergy - logZ\n",
    "\n",
    "_end = time.time()\n",
    "print(_end - _start)"
   ]
  },
  {
   "cell_type": "code",
   "execution_count": 248,
   "metadata": {},
   "outputs": [
    {
     "name": "stdout",
     "output_type": "stream",
     "text": [
      "5.523927927017212\n"
     ]
    }
   ],
   "source": [
    "_start = time.time()\n",
    "AlltrainWords = []\n",
    "for trainWordIdx in range(0, dataSize):\n",
    "    trainWord = pd.read_csv(PATH + 'data/train_img{}.txt'.format(trainWordIdx+1), header=None, delimiter=\" \")\n",
    "    trainWord = trainWord.values\n",
    "    AlltrainWords.append(trainWord)\n",
    "    \n",
    "for i in range(10):\n",
    "    ll = 0\n",
    "    for trainWordIdx in range(0, dataSize):\n",
    "        trainWord = AlltrainWords[trainWordIdx]\n",
    "        trainWord_label = train_labels[trainWordIdx]\n",
    "\n",
    "        trainWordPhis = computePotentials(trainWord, feature_params)\n",
    "        trainWordlogM = messageDict(trainWord, feature_params, transition_params)\n",
    "        marginal = trainWordPhis[:, 0] + trainWordlogM[(2, 1)]\n",
    "        logZ = logsumexp(marginal)\n",
    "\n",
    "        trainWordEnergy = computeEnergy(trainWord, trainWord_label, trainWordPhis, transition_params)\n",
    "        ll += trainWordEnergy - logZ\n",
    "\n",
    "_end = time.time()\n",
    "print(_end - _start)"
   ]
  }
 ],
 "metadata": {
  "kernelspec": {
   "display_name": "Python 3",
   "language": "python",
   "name": "python3"
  },
  "language_info": {
   "codemirror_mode": {
    "name": "ipython",
    "version": 3
   },
   "file_extension": ".py",
   "mimetype": "text/x-python",
   "name": "python",
   "nbconvert_exporter": "python",
   "pygments_lexer": "ipython3",
   "version": "3.7.6"
  }
 },
 "nbformat": 4,
 "nbformat_minor": 4
}
