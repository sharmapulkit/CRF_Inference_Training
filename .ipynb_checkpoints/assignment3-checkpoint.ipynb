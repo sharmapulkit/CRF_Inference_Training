{
 "cells": [
  {
   "cell_type": "code",
   "execution_count": 1,
   "metadata": {},
   "outputs": [],
   "source": [
    "import numpy as np\n",
    "import pandas as pd\n",
    "import csv\n",
    "import itertools\n",
    "from scipy.special import logsumexp\n",
    "import scipy.optimize as sciop\n",
    "import time"
   ]
  },
  {
   "cell_type": "code",
   "execution_count": 2,
   "metadata": {},
   "outputs": [],
   "source": [
    "PATH = './'"
   ]
  },
  {
   "cell_type": "code",
   "execution_count": 3,
   "metadata": {},
   "outputs": [],
   "source": [
    "transition_gradient = pd.read_csv(PATH + 'model/transition-gradient.txt', delimiter=' ', header=None)\n",
    "transition_params = pd.read_csv(PATH + 'model/transition-params.txt', delimiter=' ', header=None)\n",
    "feature_gradient = pd.read_csv(PATH + 'model/feature-gradient.txt', delimiter=' ', header=None)\n",
    "feature_params = pd.read_csv(PATH + 'model/feature-params.txt', delimiter=' ', header=None)"
   ]
  },
  {
   "cell_type": "code",
   "execution_count": 4,
   "metadata": {},
   "outputs": [],
   "source": [
    "train_labels = open(PATH + 'data/train_words.txt').read().splitlines()\n",
    "test_labels = open(PATH + 'data/test_words.txt').read().splitlines()"
   ]
  },
  {
   "cell_type": "code",
   "execution_count": 5,
   "metadata": {},
   "outputs": [],
   "source": [
    "AllChars = \"etainoshrd\"\n",
    "CharMapping = \\\n",
    "{'e': 0,\n",
    " 't': 1,\n",
    " 'a': 2,\n",
    " 'i': 3,\n",
    " 'n': 4,\n",
    " 'o': 5,\n",
    " 's': 6,\n",
    " 'h': 7,\n",
    " 'r': 8,\n",
    " 'd': 9\n",
    "}\n",
    "featSize=321"
   ]
  },
  {
   "cell_type": "code",
   "execution_count": 6,
   "metadata": {},
   "outputs": [],
   "source": [
    "pd.set_option('display.float_format', '{:.4e}'.format)\n",
    "# pd.reset_option('display.float_format')"
   ]
  },
  {
   "cell_type": "code",
   "execution_count": 7,
   "metadata": {},
   "outputs": [],
   "source": [
    "####### Load all training words #####\n",
    "AlltrainWords = []\n",
    "for trainWordIdx in range(0, 400):\n",
    "    trainWord = pd.read_csv(PATH + 'data/train_img{}.txt'.format(trainWordIdx+1), header=None, delimiter=\" \")\n",
    "    trainWord = trainWord.values\n",
    "    AlltrainWords.append(trainWord)"
   ]
  },
  {
   "cell_type": "code",
   "execution_count": 8,
   "metadata": {},
   "outputs": [],
   "source": [
    "####### Load all testing words #####\n",
    "AlltestWords = []\n",
    "for testWordIdx in range(0, 200):\n",
    "    testWord = pd.read_csv(PATH + 'data/test_img{}.txt'.format(testWordIdx+1), header=None, delimiter=\" \")\n",
    "    testWord = testWord.values\n",
    "    AlltestWords.append(testWord)"
   ]
  },
  {
   "cell_type": "code",
   "execution_count": 9,
   "metadata": {},
   "outputs": [],
   "source": [
    "def computePotentials(wordFeats, featureParams):\n",
    "    \"\"\"\n",
    "    Compute single Node log potentials \n",
    "    wordFeats: X : (L, 321) \n",
    "    featureParams: W_F : (10, 321)\n",
    "    Returns an array of log potentials for each position : (L, 321)\n",
    "    \"\"\"\n",
    "    phis = []\n",
    "    for letter_id in range(len(wordFeats)):\n",
    "        phis.append(np.sum(np.multiply(featureParams, wordFeats[letter_id, :]), axis=1))\n",
    "    return np.array(phis).T"
   ]
  },
  {
   "cell_type": "code",
   "execution_count": 10,
   "metadata": {},
   "outputs": [],
   "source": [
    "def computeEnergy(wordFeats, wordLabel, logPotentials, transitionParams):\n",
    "    \"\"\"\n",
    "    Compute Energy of a given word, E = - sum log(potential) + W_T\n",
    "    wordFeats: X : (L, 321)\n",
    "    Returns computed energy\n",
    "    \"\"\"\n",
    "    wordLabel_CharIdx = [CharMapping[x] for x in wordLabel]\n",
    "    sum_phis = np.sum(logPotentials[wordLabel_CharIdx, range(0, len(wordFeats))])\n",
    "    \n",
    "    arr = [(x, y) for (x, y) in zip(wordLabel_CharIdx[:-1], wordLabel_CharIdx[1:])]\n",
    "    transition_param_sum = 0\n",
    "    for elem in arr:\n",
    "        transition_param_sum += transitionParams.iloc[elem]\n",
    "    return transition_param_sum + sum_phis\n",
    "    "
   ]
  },
  {
   "cell_type": "code",
   "execution_count": 40,
   "metadata": {},
   "outputs": [],
   "source": [
    "####### Nodes are 1 indexed\n",
    "def messageDict(word, featParams, transParams, wordPhis=None):\n",
    "    \"\"\"\n",
    "    Returns Messages dictionary for every pair of adjacent nodes\n",
    "    word: X : (L, 321)\n",
    "    featParams: W_F : (10, 321)\n",
    "    transParams: W_T : (10, 10)\n",
    "    wordPhis: Precomputed log potentials of the word\n",
    "    \n",
    "    Every element of dict has shape (10,)\n",
    "    \"\"\"\n",
    "    ########### Compute Word Potentials #########\n",
    "    if wordPhis is None:\n",
    "        wordPhis = computePotentials(word, featParams)\n",
    "        \n",
    "    logM = dict()\n",
    "    logM[len(word) + 1, len(word)] = np.zeros(len(AllChars))\n",
    "    logM[0, 1] = np.zeros(len(AllChars))\n",
    "    \n",
    "    #### Backward Messages ####\n",
    "    for fromNode in range(len(word), 1, -1):\n",
    "        logM[fromNode, fromNode - 1] = logsumexp(wordPhis[:, fromNode-1] + \\\n",
    "                              logM[fromNode + 1, fromNode] + \\\n",
    "                              transParams.values, axis = 1)    \n",
    "        \n",
    "    #### Forward Messages ####\n",
    "    for fromNode in range(1, len(word)):\n",
    "        logM[fromNode, fromNode + 1] = logsumexp(wordPhis[:, fromNode-1] + \\\n",
    "                              logM[fromNode - 1, fromNode] + \\\n",
    "                                transParams.values, axis=1)    \n",
    "    return logM\n",
    "\n",
    "def singleVariableMarginal(node, word, featParams, transParams, wordPhis=None, logPartition=None):\n",
    "    \"\"\"\n",
    "    Returns log Marginals\n",
    "    \"\"\"\n",
    "    if wordPhis is None:\n",
    "        wordPhis = computePotentials(word, featParams)\n",
    "    \n",
    "    _messageDict = messageDict(word, featParams, transParams, wordPhis)\n",
    "    if (node > 0):\n",
    "        m_left = _messageDict[node-1, node]\n",
    "    if (node < len(word)+1):\n",
    "        m_right = _messageDict[node+1, node]\n",
    "    \n",
    "    total_incoming_message = m_left + m_right\n",
    "    \n",
    "    ############\n",
    "    if (logPartition is None):\n",
    "        logPartition = logsumexp(wordPhis[:, node-1] + total_incoming_message)\n",
    "        \n",
    "    logMarginalProbs = wordPhis[:, node-1] + total_incoming_message - logPartition\n",
    "    return np.exp(logMarginalProbs)\n",
    "\n",
    "def pairwiseMarginal(nodeL, nodeR, word, featParams, transParams, logPartition=None, wordPhis=None, _messageDict=None):\n",
    "    \"\"\" \n",
    "    PairWise Marginal for nodeL and nodeR\n",
    "    \"\"\"\n",
    "    if (wordPhis is None):\n",
    "        wordPhis = computePotentials(word, featParams)\n",
    "        \n",
    "    if (_messageDict is None):\n",
    "        _messageDict = messageDict(word, featParams, transParams, wordPhis)\n",
    "    \n",
    "    if (logPartition is None):\n",
    "        logPartition = logsumexp(wordPhis[:, 0] + _messageDict[2, 1])\n",
    "        \n",
    "    chars_to_consider = AllChars\n",
    "    pairwise_marginals = np.zeros( (len(chars_to_consider), len(chars_to_consider)) )\n",
    "    \n",
    "    mLeft = 0\n",
    "    mRight = 0\n",
    "    if (nodeL >= 1):\n",
    "        mLeft = _messageDict[nodeL - 1, nodeL]\n",
    "    if (nodeR <= len(word)):\n",
    "        mRight = _messageDict[nodeR + 1, nodeR]\n",
    "        \n",
    "    logSingleMarginalsL = wordPhis[:, nodeL-1] + mLeft\n",
    "    logSingleMarginalsL = np.stack( [logSingleMarginalsL]*len(AllChars) ).T\n",
    "    logSingleMarginalsR = wordPhis[:, nodeR-1] + mRight\n",
    "    logSingleMarginalsR = np.stack( [logSingleMarginalsR]*len(AllChars) )\n",
    "    \n",
    "    SingleMarginals = logSingleMarginalsL + logSingleMarginalsR\n",
    "    jointMarginal = SingleMarginals + transParams - logPartition\n",
    "\n",
    "    return np.exp(jointMarginal)\n",
    "\n",
    "def pairwiseMarginalWord(word, featParams, transParams, logPartition=None):\n",
    "    \"\"\"\n",
    "    Pairwise Marginal for each pair of nodes\n",
    "    \"\"\"\n",
    "    wordPhis = computePotentials(word, featParams)\n",
    "    _messageDict = messageDict(word, featParams, transParams, wordPhis)\n",
    "    logPartition = logsumexp(wordPhis[:, 0] + _messageDict[2, 1])\n",
    "    \n",
    "    pairwiseMargs = []\n",
    "    for node in range(1, len(word)):\n",
    "        pM = pairwiseMarginal(node, node+1, word, featParams, transParams, logPartition, wordPhis, _messageDict)\n",
    "        pairwiseMargs.append(pM.values)\n",
    "        \n",
    "    return np.array(pairwiseMargs)"
   ]
  },
  {
   "cell_type": "markdown",
   "metadata": {},
   "source": [
    "# Question 1:\n"
   ]
  },
  {
   "cell_type": "code",
   "execution_count": 12,
   "metadata": {},
   "outputs": [],
   "source": [
    "####### Compute Log Likelihood ######\n",
    "def loglikelihood(W, dataSize, AllWords, AllLabels):\n",
    "    \"\"\"\n",
    "    Evaluated the average log likelihood (lll) of AllWords\n",
    "    W: value of weights to comptue lll at\n",
    "    dataSize: Consider 0->dataSize cases from AllWords to compute lll\n",
    "    AllWords: Array containing all training word features\n",
    "    AllLabels: True labels for each characeter of each training word\n",
    "    \n",
    "    Returns average loglikelihood evaluated at W (float)\n",
    "    \"\"\"\n",
    "    featParams, transParams = W[:len(AllChars)*featSize], W[len(AllChars)*featSize:]\n",
    "    featParams = pd.DataFrame(np.reshape(featParams, (len(AllChars), featSize)))\n",
    "    transParams = pd.DataFrame(np.reshape(transParams, (len(AllChars), len(AllChars))))\n",
    "    \n",
    "    loglikelihood = 0\n",
    "    for WordIdx in range(0, dataSize):\n",
    "        Word = AllWords[WordIdx]\n",
    "        Word_label = AllLabels[WordIdx]\n",
    "        Word_labelIdxs = [CharMapping[x] for x in Word_label]\n",
    "\n",
    "        WordPhis = computePotentials(Word, featParams)\n",
    "        WordlogM = messageDict(Word, featParams, transParams)\n",
    "        marginal = WordPhis[:, 0] + WordlogM[(2, 1)]\n",
    "        logZ = logsumexp(marginal)\n",
    "\n",
    "        WordEnergy = computeEnergy(Word, Word_label, WordPhis, transParams)\n",
    "        loglikelihood += WordEnergy - logZ\n",
    "\n",
    "    print(\"Log likelihood for first {} train data points:\".format(dataSize), loglikelihood/dataSize )\n",
    "    return loglikelihood/dataSize"
   ]
  },
  {
   "cell_type": "code",
   "execution_count": 13,
   "metadata": {},
   "outputs": [
    {
     "name": "stdout",
     "output_type": "stream",
     "text": [
      "Log likelihood for first 50 train data points: -4.583959036355723\n"
     ]
    }
   ],
   "source": [
    "avglll = loglikelihood(np.append(feature_params.values.flatten(), transition_params.values.flatten()), \\\n",
    "                       50, AlltrainWords, train_labels)"
   ]
  },
  {
   "cell_type": "code",
   "execution_count": 42,
   "metadata": {},
   "outputs": [],
   "source": [
    "def _computeGradWF(word, wordLabel, singleMarginals):\n",
    "    \"\"\"\n",
    "    Compute the feature parameter gradient for a single word\n",
    "    word: image features of the word\n",
    "    wordLabel: true ground truth label\n",
    "    singleMarginals: Marginal distribution of each node in CRF\n",
    "    \n",
    "    Returns 10 x 321 np array that contains the gradient of lll of 'word' w.r.t. W^T evaluated at current W\n",
    "    \"\"\"\n",
    "    wordLabelList = np.array([x for x in wordLabel])\n",
    "    mask = [np.where(wordLabelList == c)[0] for c in CharMapping] # 10 x L(word)\n",
    "    selectedX = [np.sum(word[m, :], axis=0) for m in mask] # 10 x _ x 321\n",
    "\n",
    "    secondTerm = []\n",
    "    for c_id, c in enumerate(AllChars):\n",
    "        probbyc = np.expand_dims(singleMarginals[:, c_id], axis=1)\n",
    "        secondTerm.append(np.sum(word*probbyc, axis=0))\n",
    "    secondTerm = np.array(secondTerm)\n",
    "    grad = selectedX - secondTerm\n",
    "    return grad\n",
    "\n",
    "def computeGradF(W, dataSize, AlltrainingWords, trainingPotentials, Alltraininglabels):\n",
    "    \"\"\"\n",
    "    Compute the feature parameter gradient for words in AlltrainingWords\n",
    "    W: current value of weights\n",
    "    dataSize: 0->dataSize words will be used from AlltrainingWords for computation of gradient\n",
    "    AlltrainingWords: Array containing all training word features\n",
    "    trainingPotentials: Precomputed node Potentials of every training word\n",
    "    Alltraininglabels: True labels for each characeter of each training word\n",
    "    \n",
    "    Returns 10x321 array containing gradient of avg. lll w.r.t. W^F evaluated at W\n",
    "    \"\"\"\n",
    "    wF, wT = W[:len(AllChars)*featSize], W[len(AllChars)*featSize:]\n",
    "    wF = pd.DataFrame(np.reshape(wF, (len(AllChars), featSize)))\n",
    "    wT = pd.DataFrame(np.reshape(wT, (len(AllChars), len(AllChars))))\n",
    "    grad = 0\n",
    "    for trainWordIdx in range(dataSize):\n",
    "        trainWord = AlltrainingWords[trainWordIdx]\n",
    "        trainWord_label = Alltraininglabels[trainWordIdx]\n",
    "        trainWord_labelIdxs = [CharMapping[x] for x in trainWord_label]\n",
    "        trainWordPhis = trainingPotentials[trainWordIdx] # computePotentials(trainWord, wF)\n",
    "\n",
    "        singleVarMargs = []\n",
    "        for node in range(1, len(trainWord)+1):\n",
    "            sVM = singleVariableMarginal(node, trainWord, wF, wT, trainWordPhis)\n",
    "            singleVarMargs.append(sVM)\n",
    "        grad += _computeGradWF(trainWord, trainWord_label, np.array(singleVarMargs))\n",
    "    return grad/dataSize\n",
    "\n",
    "def _computeGradWT(word, wordLabel, _pairwiseMarginals):\n",
    "    \"\"\"\n",
    "    Compute the transition parameter gradient for a single word\n",
    "    word: image features of the word\n",
    "    wordLabel: true ground truth label\n",
    "    _pairwiseMarginals: Pairwise Marginal distribution of each pair of adjacent nodes in CRF\n",
    "    \n",
    "    Returns 10 x 10 np array that contains the gradient of lll of 'word' w.r.t. W^T evaluated at current W\n",
    "    \"\"\"\n",
    "    gradwt = np.zeros((len(AllChars), len(AllChars)))\n",
    "    for letter_id in range(0, len(word)-1):\n",
    "        gradwt += -1*_pairwiseMarginals[letter_id]\n",
    "        gradwt[ CharMapping[wordLabel[letter_id]], CharMapping[wordLabel[letter_id + 1]] ] += 1\n",
    "    \n",
    "#     firstTerm = 0\n",
    "#     secondTerm = 0\n",
    "#     for c in CharMapping:\n",
    "#         for cprime in CharMapping:\n",
    "#             firstTerm = 0\n",
    "#             secondTerm = 0\n",
    "#             for letter_id in range(0, len(word)-1):\n",
    "#                 if ((wordLabel[letter_id] == c) and (wordLabel[letter_id + 1] == cprime)):\n",
    "#                     firstTerm += 1\n",
    "#                 secondTerm += _pairwiseMarginals[letter_id][CharMapping[c]][CharMapping[cprime]]\n",
    "#             gradwt[CharMapping[c], CharMapping[cprime]] = (firstTerm - secondTerm)\n",
    "    return gradwt\n",
    "\n",
    "def computeGradT(W, dataSize, AlltrainingWords, trainingPotentials, Alltraininglabels):\n",
    "    \"\"\"\n",
    "    Compute Gradient for Transition parameters\n",
    "    W: Current values of weights to evaluate the gradient at\n",
    "    dataSize: size of the training data to be used\n",
    "    AlltrainingWords: Array containing all training word features\n",
    "    trainingPotentials: Precomputed node Potentials of every training word\n",
    "    Alltraininglabels: True labels for each characeter of each training word\n",
    "    \n",
    "    Returns 10 x 10 np array containing the gradient of lll w.r.t. W^T evaluated at current W\n",
    "    \"\"\"\n",
    "    wF, wT = W[:len(AllChars)*featSize], W[len(AllChars)*featSize:]\n",
    "    wF = pd.DataFrame(np.reshape(wF, (len(AllChars), featSize)))\n",
    "    wT = pd.DataFrame(np.reshape(wT, (len(AllChars), len(AllChars))))\n",
    "    gradWT = 0\n",
    "    for trainWordIdx in range(dataSize):\n",
    "        trainWord = AlltrainingWords[trainWordIdx]\n",
    "        trainWord_label = Alltraininglabels[trainWordIdx]\n",
    "        trainWord_labelIdxs = [CharMapping[x] for x in trainWord_label]\n",
    "        trainWordPhis = trainingPotentials[trainWordIdx] # computePotentials(trainWord, wF)\n",
    "\n",
    "#         start_time = time.time()\n",
    "        pairwiseMargs = pairwiseMarginalWord(trainWord, wF, wT)\n",
    "#         end_time1 = time.time()\n",
    "#         print(\"Pairwise for each node:\", end_time1 - start_time)\n",
    "        gradWT += _computeGradWT(trainWord, trainWord_label, np.array(pairwiseMargs))\n",
    "        \n",
    "    return gradWT/dataSize"
   ]
  },
  {
   "cell_type": "code",
   "execution_count": 31,
   "metadata": {},
   "outputs": [],
   "source": [
    "def gradlll(W, dataSize, AlltrainingWords, Alltraininglabels):\n",
    "    \"\"\" Compute the gradient of log likelihood at wF and wT \"\"\"\n",
    "    wF, wT = W[:len(AllChars)*featSize], W[len(AllChars)*featSize:]\n",
    "    wF = pd.DataFrame(np.reshape(wF, (len(AllChars), featSize)))\n",
    "    wT = pd.DataFrame(np.reshape(wT, (len(AllChars), len(AllChars))))\n",
    "    \n",
    "    trainingPotentials = []\n",
    "    for dataIter in range(dataSize):\n",
    "        thisWordPotential = computePotentials(AlltrainingWords[dataIter], wF)\n",
    "        trainingPotentials.append(thisWordPotential)\n",
    "    \n",
    "\n",
    "    gradWF = computeGradF(W, dataSize, AlltrainingWords, trainingPotentials, Alltraininglabels)\n",
    "    end_time1 = time.time()\n",
    "    gradWT = computeGradT(W, dataSize, AlltrainingWords, trainingPotentials, Alltraininglabels)\n",
    "    end_time2 = time.time()\n",
    "    print(\"Grad T computation time:\", end_time2 - end_time1)\n",
    "    \n",
    "    grads = np.concatenate( (gradWF.flatten(), gradWT.flatten()) )\n",
    "    return grads"
   ]
  },
  {
   "cell_type": "code",
   "execution_count": 43,
   "metadata": {},
   "outputs": [
    {
     "name": "stdout",
     "output_type": "stream",
     "text": [
      "Grad T computation time: 0.291609525680542\n",
      "            0           1           2           3           4           5  \\\n",
      "0  2.8398e-08 -2.5034e-07 -9.9820e-09  7.6223e-09 -4.8489e-09 -1.8662e-07   \n",
      "1 -3.0653e-07  8.3044e-10  4.2925e-09  2.4960e-07  2.4194e-07  1.3896e-07   \n",
      "2 -3.5589e-07 -1.5353e-07  1.0921e-07 -1.3061e-10  4.5566e-07  3.4753e-08   \n",
      "3 -5.7411e-08  4.9292e-09  1.8027e-09  7.7513e-10  1.9693e-07 -2.3169e-07   \n",
      "4  8.8827e-08 -3.9961e-08 -1.5750e-07  5.7451e-09 -4.2663e-07  3.2068e-08   \n",
      "5 -4.7775e-08  1.2534e-08 -3.0784e-08  2.8165e-07  4.6407e-07  4.1413e-08   \n",
      "6 -5.2019e-08 -3.5943e-08 -1.2943e-08 -3.1605e-07  1.3934e-07 -1.3107e-07   \n",
      "7  3.5963e-08 -7.5747e-09 -2.3945e-08  4.2163e-07  8.0127e-08 -3.6645e-07   \n",
      "8 -2.4528e-07  4.5560e-07 -3.4678e-07 -6.5033e-08  5.5532e-08  1.2589e-07   \n",
      "9  2.4113e-09  4.3369e-07 -2.7678e-07  2.0347e-07  3.4731e-08  4.5713e-09   \n",
      "\n",
      "            6           7           8           9  \n",
      "0 -3.8622e-08 -4.0886e-08 -3.8389e-09 -1.8402e-08  \n",
      "1 -3.9936e-10 -4.6961e-07  4.7965e-08  6.9190e-08  \n",
      "2  2.0000e-02  1.7235e-08  3.3523e-07 -1.3720e-09  \n",
      "3  1.2293e-07  2.8804e-07 -8.6528e-08  1.9658e-07  \n",
      "4 -4.4125e-07  3.6955e-07  1.8620e-07  3.3021e-07  \n",
      "5  2.0392e-08  4.8857e-09 -2.6796e-09 -3.5459e-10  \n",
      "6  2.0000e-02 -4.6918e-07 -1.2929e-07 -1.4946e-09  \n",
      "7  4.0650e-08  3.7735e-08 -3.3120e-07  3.9185e-08  \n",
      "8 -2.8940e-08  4.3854e-08 -2.4218e-08 -1.9790e-07  \n",
      "9  1.3347e-08 -2.7233e-09 -2.3134e-09  1.4779e-08  \n"
     ]
    }
   ],
   "source": [
    "######## Verify the computation of gradients is correct\n",
    "W0 = np.append(feature_params.values.flatten(), (transition_params.values.flatten()))\n",
    "_grads_ll = gradlll(W0, 50, AlltrainWords, train_labels)\n",
    "_wF, _wT = _grads_ll[:len(AllChars)*featSize], _grads_ll[ len(AllChars)*featSize: ]\n",
    "_wF = pd.DataFrame(np.reshape(_wF, (len(AllChars), featSize)))\n",
    "_wT = pd.DataFrame(np.reshape(_wT, (len(AllChars), len(AllChars))))\n",
    "\n",
    "print(_wT - transition_gradient)\n",
    "# print(transition_gradient)"
   ]
  },
  {
   "cell_type": "code",
   "execution_count": 25,
   "metadata": {},
   "outputs": [],
   "source": [
    "def nll(W, dataSize, AlltrainingWords, Alltraininglabels):\n",
    "    start_time = time.time()\n",
    "    _nll = -1*loglikelihood(W, dataSize, AlltrainingWords, Alltraininglabels)\n",
    "    end_time = time.time()\n",
    "    print(\"Likelihood computation time:\", end_time - start_time)\n",
    "    return _nll\n",
    "\n",
    "def gradnll(W, dataSize, AlltrainingWords, Alltraininglabels):\n",
    "    _gradnll = -1*gradlll(W, dataSize, AlltrainingWords, Alltraininglabels)\n",
    "    return _gradnll"
   ]
  },
  {
   "cell_type": "code",
   "execution_count": 23,
   "metadata": {},
   "outputs": [],
   "source": [
    "def getAccuracy(W):\n",
    "    wF, wT = W[:len(AllChars)*featSize], W[len(AllChars)*featSize:]\n",
    "    wF = pd.DataFrame(np.reshape(wF, (len(AllChars), featSize)))\n",
    "    wT = pd.DataFrame(np.reshape(wT, (len(AllChars), len(AllChars))))\n",
    "    \n",
    "    #### Predictions on test set\n",
    "    preds = []\n",
    "    for testWordIdx in range(1, 201):\n",
    "        testWord = pd.read_csv(PATH + 'data/test_img{}.txt'.format(testWordIdx), header=None, delimiter=\" \")\n",
    "        testWord = testWord.values\n",
    "\n",
    "        testWordPhis = computePotentials(testWord, wF)\n",
    "        singleVarMarginals = []\n",
    "        for node in range(1, len(testWord)+1):\n",
    "            singleVarMarginals.append(singleVariableMarginal(node, testWord, wF, wT, \\\n",
    "                                                             testWordPhis))\n",
    "        singleVarMarginals = np.array(singleVarMarginals)\n",
    "        preds.append(''.join([AllChars[x] for x in np.argmax(singleVarMarginals, axis=1)]))\n",
    "    \n",
    "    #### Character Level accuracy ########\n",
    "    tp = 0\n",
    "    total = 0\n",
    "    for pred_id, pred in enumerate(preds):\n",
    "        testWordLabel = np.array([x for x in test_labels[pred_id]])\n",
    "        pred = np.array([x for x in pred])\n",
    "        tp += len(np.where(testWordLabel == pred)[0])\n",
    "        total += len(testWordLabel)\n",
    "    \n",
    "    print(\"Character Level Test-Accuracy:\", tp/total*100, \"%\")\n",
    "    return tp/total*100"
   ]
  },
  {
   "cell_type": "code",
   "execution_count": 19,
   "metadata": {},
   "outputs": [],
   "source": [
    "_training_times_bfgs = {}\n",
    "_weights_bfgs = {}\n",
    "_accuracies_bfgs = {}\n",
    "_errors_bfgs = {}\n",
    "_testLL_bfgs = {}\n",
    "_trainLL_bfgs = {}"
   ]
  },
  {
   "cell_type": "code",
   "execution_count": null,
   "metadata": {},
   "outputs": [
    {
     "name": "stdout",
     "output_type": "stream",
     "text": [
      "Log likelihood for first 400 train data points: -12.520306443155137\n",
      "Likelihood computation time: 1.5281875133514404\n",
      "Grad T computation time: 2.389944076538086\n",
      "Log likelihood for first 400 train data points: -18.349616435684773\n",
      "Likelihood computation time: 1.5238113403320312\n",
      "Grad T computation time: 2.4126877784729004\n",
      "Log likelihood for first 400 train data points: -11.682192141163668\n",
      "Likelihood computation time: 1.5263526439666748\n",
      "Grad T computation time: 2.437702178955078\n",
      "Log likelihood for first 400 train data points: -10.248220454845274\n",
      "Likelihood computation time: 1.5538170337677002\n",
      "Grad T computation time: 2.464071035385132\n",
      "Log likelihood for first 400 train data points: -8.09346018333083\n",
      "Likelihood computation time: 1.5649139881134033\n",
      "Grad T computation time: 2.962062358856201\n",
      "Log likelihood for first 400 train data points: -5.80975434362628\n",
      "Likelihood computation time: 1.9535279273986816\n",
      "Grad T computation time: 2.5085391998291016\n",
      "Log likelihood for first 400 train data points: -12.05786911253841\n",
      "Likelihood computation time: 2.6348228454589844\n",
      "Grad T computation time: 3.296351194381714\n",
      "Log likelihood for first 400 train data points: -5.476479938073939\n",
      "Likelihood computation time: 1.6223280429840088\n",
      "Grad T computation time: 2.6782748699188232\n",
      "Log likelihood for first 400 train data points: -4.924904027499654\n",
      "Likelihood computation time: 1.6202757358551025\n",
      "Grad T computation time: 3.491995334625244\n",
      "Log likelihood for first 400 train data points: -4.0090456353964985\n",
      "Likelihood computation time: 1.6256680488586426\n",
      "Grad T computation time: 2.552353858947754\n",
      "Log likelihood for first 400 train data points: -3.319297046819127\n",
      "Likelihood computation time: 2.0901381969451904\n",
      "Grad T computation time: 3.042948007583618\n",
      "Log likelihood for first 400 train data points: -3.097217273855987\n",
      "Likelihood computation time: 1.8253118991851807\n",
      "Grad T computation time: 2.56337833404541\n",
      "Log likelihood for first 400 train data points: -2.687422191992441\n",
      "Likelihood computation time: 2.1587746143341064\n",
      "Grad T computation time: 3.2177248001098633\n",
      "Log likelihood for first 400 train data points: -2.4018666719782313\n",
      "Likelihood computation time: 2.263650894165039\n",
      "Grad T computation time: 2.577582359313965\n",
      "Log likelihood for first 400 train data points: -1.9815494949623709\n",
      "Likelihood computation time: 1.6339776515960693\n",
      "Grad T computation time: 2.546675443649292\n",
      "Log likelihood for first 400 train data points: -1.3325018206603942\n",
      "Likelihood computation time: 1.6142773628234863\n",
      "Grad T computation time: 2.589639663696289\n",
      "Log likelihood for first 400 train data points: -0.6301988265133605\n",
      "Likelihood computation time: 1.5737121105194092\n",
      "Grad T computation time: 2.690767526626587\n",
      "Log likelihood for first 400 train data points: -0.38587318146148447\n",
      "Likelihood computation time: 1.7021732330322266\n",
      "Grad T computation time: 2.5679755210876465\n",
      "Log likelihood for first 400 train data points: -0.1890047509279649\n",
      "Likelihood computation time: 1.6335017681121826\n",
      "Grad T computation time: 2.934880256652832\n",
      "Log likelihood for first 400 train data points: -0.08952677721350126\n",
      "Likelihood computation time: 1.726027488708496\n",
      "Grad T computation time: 2.635521650314331\n",
      "Log likelihood for first 400 train data points: -0.06091045292585461\n",
      "Likelihood computation time: 2.181039571762085\n",
      "Grad T computation time: 2.6727349758148193\n",
      "Log likelihood for first 400 train data points: -0.054706955871410924\n",
      "Likelihood computation time: 1.9743192195892334\n"
     ]
    }
   ],
   "source": [
    "for _data_size in range(400, 401, 50):\n",
    "    ### train with given data ###\n",
    "    x0 = np.concatenate( (np.zeros((len(AllChars)*featSize)), np.zeros((len(AllChars)*len(AllChars)))) )\n",
    "    startTime = time.time()\n",
    "    res = sciop.minimize(fun=nll, x0=x0, args=(_data_size, AlltrainWords, train_labels), jac=gradnll, \\\n",
    "                             method='BFGS', options={'disp': True, 'maxiter': 40})\n",
    "    endTime = time.time()\n",
    "    training_time = endTime - startTime\n",
    "    \n",
    "    print(\"Training Time:\", training_time)\n",
    "    \n",
    "    _training_times_bfgs[_data_size] = training_time\n",
    "    \n",
    "    _weights_bfgs[_data_size] = res.x\n",
    "    /\n",
    "    _accuracies_bfgs[_data_size] = getAccuracy(res.x)\n",
    "    _errors_bfgs[_data_size] = [100 - getAccuracy(res.x)]\n",
    "    \n",
    "    _testLL_bfgs[_data_size] = loglikelihood( _weights_bfgs[_data_size], 200, AlltestWords, test_labels )\n",
    "    \n",
    "    _trainLL_bfgs[_data_size] = loglikelihood(_weights_bfgs[_data_size], _data_size, AlltrainWords, train_labels)"
   ]
  },
  {
   "cell_type": "code",
   "execution_count": 37,
   "metadata": {},
   "outputs": [
    {
     "data": {
      "text/plain": [
       "      fun: 0.2716008470789078\n",
       " hess_inv: <3310x3310 LbfgsInvHessProduct with dtype=float64>\n",
       "      jac: array([-0.00263362, -0.00333529, -0.00448441, ...,  0.00183911,\n",
       "       -0.00248382, -0.00672377])\n",
       "  message: b'CONVERGENCE: REL_REDUCTION_OF_F_<=_FACTR*EPSMCH'\n",
       "     nfev: 29\n",
       "      nit: 17\n",
       "   status: 0\n",
       "  success: True\n",
       "        x: array([ 0.01098078,  0.09386413,  0.63315925, ..., -0.33606481,\n",
       "       -0.31209564, -0.15788852])"
      ]
     },
     "execution_count": 37,
     "metadata": {},
     "output_type": "execute_result"
    }
   ],
   "source": [
    "res"
   ]
  },
  {
   "cell_type": "code",
   "execution_count": 36,
   "metadata": {},
   "outputs": [
    {
     "data": {
      "image/png": "[encoded data removed]",
      "text/plain": [
       "<Figure size 432x288 with 1 Axes>"
      ]
     },
     "metadata": {
      "needs_background": "light"
     },
     "output_type": "display_data"
    },
    {
     "data": {
      "image/png": "[encoded data removed]",
      "text/plain": [
       "<Figure size 432x288 with 1 Axes>"
      ]
     },
     "metadata": {
      "needs_background": "light"
     },
     "output_type": "display_data"
    },
    {
     "data": {
      "image/png": "[encoded data removed]",
      "text/plain": [
       "<Figure size 432x288 with 1 Axes>"
      ]
     },
     "metadata": {
      "needs_background": "light"
     },
     "output_type": "display_data"
    },
    {
     "data": {
      "image/png": "[encoded data removed]",
      "text/plain": [
       "<Figure size 432x288 with 1 Axes>"
      ]
     },
     "metadata": {
      "needs_background": "light"
     },
     "output_type": "display_data"
    }
   ],
   "source": [
    "import matplotlib.pyplot as plt\n",
    "fig = plt.figure()\n",
    "\n",
    "lists = sorted(_training_times_bfgs.items())\n",
    "x, y = zip(*lists)\n",
    "# ax1 = fig.add_subplot(311)\n",
    "plt.plot(x, y)\n",
    "plt.grid(True)\n",
    "plt.xlabel('Training Set Size')\n",
    "plt.ylabel('Training Time (s)')\n",
    "for xx, yy in zip(x, y):                                \n",
    "    plt.annotate('%.2f' % yy, xy=(xx, yy), xytext= (xx, yy), textcoords='data')\n",
    "plt.savefig('trainingTime.jpg', bbox_inches='tight')\n",
    "plt.show()\n",
    "\n",
    "lists = sorted(_errors_bfgs.items())\n",
    "x, y = zip(*lists)\n",
    "plt.xlabel('Training Set Size')\n",
    "plt.ylabel('Test Error (%)')\n",
    "plt.plot(x, y)\n",
    "plt.grid(True)\n",
    "for xx, yy in zip(x, y):                                    \n",
    "    plt.annotate('%.2f' % yy, xy=(xx, yy), xytext= (xx, yy), textcoords='data')\n",
    "plt.savefig('TestError.jpg', bbox_inches='tight')\n",
    "plt.show()\n",
    "\n",
    "lists = sorted(_testLL_bfgs.items())\n",
    "x, y = zip(*lists)\n",
    "plt.xlabel('Training Set Size')\n",
    "plt.ylabel('avg. test LogLikelihood')\n",
    "plt.plot(x, y)\n",
    "plt.grid(True)\n",
    "for xx, yy in zip(x, y):                                      \n",
    "    plt.annotate('%.2f' % yy, xy=(xx, yy), xytext= (xx, yy), textcoords='data') \n",
    "plt.savefig('testLogLikelihood.jpg', bbox_inches='tight')\n",
    "plt.show()\n",
    "\n",
    "lists = sorted(_trainLL_bfgs.items())\n",
    "x, y = zip(*lists)\n",
    "plt.xlabel('Training Set Size')\n",
    "plt.ylabel('avg. train LogLikelihood')\n",
    "plt.plot(x, y)\n",
    "plt.grid(True)\n",
    "for xx, yy in zip(x, y):                                       \n",
    "    plt.annotate('%.2f' % yy, xy=(xx, yy), xytext= (xx, yy), textcoords='data')\n",
    "plt.savefig('trainLogLikelihood.jpg', bbox_inches='tight')\n",
    "plt.show()"
   ]
  },
  {
   "cell_type": "markdown",
   "metadata": {},
   "source": [
    "## Appendix\n",
    "### Compare the runtime of likelihood computation with and without preloaded TrainingData"
   ]
  },
  {
   "cell_type": "code",
   "execution_count": 247,
   "metadata": {},
   "outputs": [
    {
     "name": "stdout",
     "output_type": "stream",
     "text": [
      "21.01706337928772\n"
     ]
    }
   ],
   "source": [
    "_start = time.time()\n",
    "for i in range(10):\n",
    "    ll = 0\n",
    "    for trainWordIdx in range(0, dataSize):\n",
    "        trainWord = pd.read_csv(PATH + 'data/train_img{}.txt'.format(trainWordIdx+1), header=None, delimiter=\" \")\n",
    "        trainWord = trainWord.values\n",
    "        trainWord_label = train_labels[trainWordIdx]\n",
    "        trainWord_labelIdxs = [CharMapping[x] for x in trainWord_label]\n",
    "\n",
    "        trainWordPhis = computePotentials(trainWord, feature_params)\n",
    "        trainWordlogM = messageDict(trainWord, feature_params, transition_params)\n",
    "        marginal = trainWordPhis[:, 0] + trainWordlogM[(2, 1)]\n",
    "        logZ = logsumexp(marginal)\n",
    "\n",
    "        trainWordEnergy = computeEnergy(trainWord, trainWord_label, trainWordPhis, transition_params)\n",
    "        ll += trainWordEnergy - logZ\n",
    "\n",
    "_end = time.time()\n",
    "print(_end - _start)"
   ]
  },
  {
   "cell_type": "code",
   "execution_count": 248,
   "metadata": {},
   "outputs": [
    {
     "name": "stdout",
     "output_type": "stream",
     "text": [
      "5.523927927017212\n"
     ]
    }
   ],
   "source": [
    "_start = time.time()\n",
    "AlltrainWords = []\n",
    "for trainWordIdx in range(0, dataSize):\n",
    "    trainWord = pd.read_csv(PATH + 'data/train_img{}.txt'.format(trainWordIdx+1), header=None, delimiter=\" \")\n",
    "    trainWord = trainWord.values\n",
    "    AlltrainWords.append(trainWord)\n",
    "    \n",
    "for i in range(10):\n",
    "    ll = 0\n",
    "    for trainWordIdx in range(0, dataSize):\n",
    "        trainWord = AlltrainWords[trainWordIdx]\n",
    "        trainWord_label = train_labels[trainWordIdx]\n",
    "\n",
    "        trainWordPhis = computePotentials(trainWord, feature_params)\n",
    "        trainWordlogM = messageDict(trainWord, feature_params, transition_params)\n",
    "        marginal = trainWordPhis[:, 0] + trainWordlogM[(2, 1)]\n",
    "        logZ = logsumexp(marginal)\n",
    "\n",
    "        trainWordEnergy = computeEnergy(trainWord, trainWord_label, trainWordPhis, transition_params)\n",
    "        ll += trainWordEnergy - logZ\n",
    "\n",
    "_end = time.time()\n",
    "print(_end - _start)"
   ]
  }
 ],
 "metadata": {
  "kernelspec": {
   "display_name": "Python 3",
   "language": "python",
   "name": "python3"
  },
  "language_info": {
   "codemirror_mode": {
    "name": "ipython",
    "version": 3
   },
   "file_extension": ".py",
   "mimetype": "text/x-python",
   "name": "python",
   "nbconvert_exporter": "python",
   "pygments_lexer": "ipython3",
   "version": "3.7.6"
  }
 },
 "nbformat": 4,
 "nbformat_minor": 4
}
